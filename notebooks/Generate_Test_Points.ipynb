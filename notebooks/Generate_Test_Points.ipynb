{
 "cells": [
  {
   "cell_type": "code",
   "execution_count": 45,
   "outputs": [
    {
     "name": "stdout",
     "output_type": "stream",
     "text": [
      "The autoreload extension is already loaded. To reload it, use:\n",
      "  %reload_ext autoreload\n"
     ]
    }
   ],
   "source": [
    "%load_ext autoreload\n",
    "%autoreload 2"
   ],
   "metadata": {
    "collapsed": false,
    "pycharm": {
     "name": "#%%\n"
    }
   }
  },
  {
   "cell_type": "code",
   "execution_count": 51,
   "outputs": [],
   "source": [
    "import trimesh\n",
    "from pysdf import SDF\n",
    "import mesh_to_sdf\n",
    "import numpy as np\n",
    "\n",
    "from source.mesh_to_sdf_utils import sample_sdf_random_points"
   ],
   "metadata": {
    "collapsed": false,
    "pycharm": {
     "name": "#%%\n"
    }
   }
  },
  {
   "cell_type": "code",
   "execution_count": 52,
   "outputs": [],
   "source": [
    "OBJ_IDX = 2"
   ],
   "metadata": {
    "collapsed": false,
    "pycharm": {
     "name": "#%%\n"
    }
   }
  },
  {
   "cell_type": "code",
   "execution_count": 53,
   "metadata": {
    "collapsed": true,
    "pycharm": {
     "name": "#%%\n"
    }
   },
   "outputs": [],
   "source": [
    "mesh = trimesh.load(f'../test_task_meshes/{OBJ_IDX}.obj')\n",
    "# mesh.show()"
   ]
  },
  {
   "cell_type": "code",
   "execution_count": 49,
   "outputs": [],
   "source": [
    "def generate_test_points(mesh, obj_idx, number_of_points = 50_000):\n",
    "    points_near_surface, sdf_val_near_surface = mesh_to_sdf.sample_sdf_near_surface(mesh, number_of_points)\n",
    "    print('points_near_surface shape: ', points_near_surface.shape)\n",
    "    print('sdf_val_near_surface shape: ', sdf_val_near_surface.shape)\n",
    "\n",
    "    points_random, sdf_val_random = sample_sdf_random_points(mesh, number_of_points)\n",
    "    print('points_random shape: ', points_random.shape)\n",
    "    print('sdf_val_random shape: ', sdf_val_random.shape)\n",
    "\n",
    "    np.save(f'../test_points/points_near_surface_obj{obj_idx}.npy', points_near_surface)\n",
    "    np.save(f'../test_points/sdf_val_near_surface_obj{obj_idx}.npy', sdf_val_near_surface)\n",
    "    np.save(f'../test_points/points_random_obj{obj_idx}.npy', points_random)\n",
    "    np.save(f'../test_points/sdf_val_random_obj{obj_idx}.npy', sdf_val_random)\n"
   ],
   "metadata": {
    "collapsed": false,
    "pycharm": {
     "name": "#%%\n"
    }
   }
  },
  {
   "cell_type": "code",
   "execution_count": 50,
   "outputs": [
    {
     "name": "stdout",
     "output_type": "stream",
     "text": [
      "points_near_surface shape:  (50000, 3)\n",
      "sdf_val_near_surface shape:  (50000,)\n",
      "points_random shape:  (50000, 3)\n",
      "sdf_val_random shape:  (50000,)\n"
     ]
    }
   ],
   "source": [
    "generate_test_points(mesh, OBJ_IDX)"
   ],
   "metadata": {
    "collapsed": false,
    "pycharm": {
     "name": "#%%\n"
    }
   }
  },
  {
   "cell_type": "code",
   "execution_count": 50,
   "outputs": [],
   "source": [],
   "metadata": {
    "collapsed": false,
    "pycharm": {
     "name": "#%%\n"
    }
   }
  }
 ],
 "metadata": {
  "kernelspec": {
   "display_name": "Python 3",
   "language": "python",
   "name": "python3"
  },
  "language_info": {
   "codemirror_mode": {
    "name": "ipython",
    "version": 2
   },
   "file_extension": ".py",
   "mimetype": "text/x-python",
   "name": "python",
   "nbconvert_exporter": "python",
   "pygments_lexer": "ipython2",
   "version": "2.7.6"
  }
 },
 "nbformat": 4,
 "nbformat_minor": 0
}