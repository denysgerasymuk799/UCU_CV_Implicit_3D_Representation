{
  "cells": [
    {
      "cell_type": "markdown",
      "metadata": {
        "id": "FszDeME72weo"
      },
      "source": [
        "## Original version of SIREN on PyTorch\n",
        "\n",
        "#### Author: Denys Herasymuk"
      ]
    },
    {
      "cell_type": "code",
      "source": [
        "from IPython.display import Image, HTML, clear_output\n",
        "import warnings\n",
        "warnings.filterwarnings('ignore')\n",
        "os.environ[\"PYTHONWARNINGS\"] = \"ignore\""
      ],
      "metadata": {
        "id": "Avnt4p1yKf5C"
      },
      "execution_count": 39,
      "outputs": []
    },
    {
      "cell_type": "code",
      "source": [
        "!pip install siren-pytorch\n",
        "clear_output()"
      ],
      "metadata": {
        "id": "g_M1hbyKBnzK"
      },
      "execution_count": 40,
      "outputs": []
    },
    {
      "cell_type": "code",
      "source": [
        "!pip install pysdf\n",
        "clear_output()"
      ],
      "metadata": {
        "id": "HlT3dXERCfF_"
      },
      "execution_count": 41,
      "outputs": []
    },
    {
      "cell_type": "code",
      "source": [
        "!pip install trimesh\n",
        "clear_output()"
      ],
      "metadata": {
        "id": "0hP--_NALYi_"
      },
      "execution_count": 42,
      "outputs": []
    },
    {
      "cell_type": "code",
      "source": [
        "!pip install Rtree\n",
        "clear_output()"
      ],
      "metadata": {
        "id": "RI1cV_QuMQUy"
      },
      "execution_count": 43,
      "outputs": []
    },
    {
      "cell_type": "code",
      "source": [
        "import os\n",
        "import time\n",
        "import pysdf\n",
        "import trimesh\n",
        "from pysdf import SDF\n",
        "from tqdm import tqdm\n",
        "\n",
        "import torch\n",
        "from torch import nn\n",
        "import torch.nn.functional as F\n",
        "from torch.utils.data import DataLoader, Dataset\n",
        "from siren_pytorch import SirenNet\n",
        "\n",
        "from PIL import Image\n",
        "from torchvision.transforms import Resize, Compose, ToTensor, Normalize\n",
        "import numpy as np\n",
        "import skimage\n",
        "import matplotlib.pyplot as plt"
      ],
      "metadata": {
        "id": "j3YWosaoBoVi"
      },
      "execution_count": 58,
      "outputs": []
    },
    {
      "cell_type": "code",
      "source": [
        "from google.colab import drive\n",
        "drive.mount('/content/drive')"
      ],
      "metadata": {
        "colab": {
          "base_uri": "https://localhost:8080/"
        },
        "id": "ymdlHiMfKUHl",
        "outputId": "3002df86-879a-4f87-8709-25137b28b61f"
      },
      "execution_count": 59,
      "outputs": [
        {
          "output_type": "stream",
          "name": "stdout",
          "text": [
            "Drive already mounted at /content/drive; to attempt to forcibly remount, call drive.mount(\"/content/drive\", force_remount=True).\n"
          ]
        }
      ]
    },
    {
      "cell_type": "code",
      "source": [
        "DATA_DIR = '/content/drive/MyDrive/UCU/4course_1term/Computer_Vision/Practice/data/'"
      ],
      "metadata": {
        "id": "vzVOFz2fJHtf"
      },
      "execution_count": 60,
      "outputs": []
    },
    {
      "cell_type": "markdown",
      "metadata": {
        "id": "M7WEtgdf2we1"
      },
      "source": [
        "## Helper functions for the model training"
      ]
    },
    {
      "cell_type": "code",
      "source": [
        "def get_near_surface_points_and_truth(mesh, num_points = 2048):\n",
        "  f = SDF(mesh.vertices, mesh.faces)\n",
        "  \n",
        "  points = f.sample_surface(num_points)\n",
        "  points += np.random.normal(scale=0.01, size=(num_points, 3))\n",
        "  ground_truth = f(points)\n",
        "  \n",
        "  return points, ground_truth\n",
        "\n",
        "\n",
        "def get_near_surface_points_and_truth_cuda(mesh, num_points = 2048):\n",
        "  points, ground_truth = get_near_surface_points_and_truth(mesh)\n",
        "  points = torch.cuda.FloatTensor(points)\n",
        "  ground_truth = torch.cuda.FloatTensor(ground_truth)\n",
        "\n",
        "  return points.cuda(), ground_truth.cuda()\n",
        "\n",
        "\n",
        "def get_random_points_and_truth(mesh, num_points = 2048):\n",
        "  points = np.random.uniform(-1.0,1.0,(num_points,3))\n",
        "  ground_truth = trimesh.proximity.signed_distance(mesh, points)\n",
        "  \n",
        "  return points, ground_truth\n",
        "\n",
        "\n",
        "def get_random_points_and_truth_cuda(mesh, num_points = 2048):\n",
        "  points, ground_truth = get_random_points_and_truth(mesh)\n",
        "  points = torch.cuda.FloatTensor(points)\n",
        "  ground_truth = torch.cuda.FloatTensor(ground_truth)\n",
        "\n",
        "  return points.cuda(), ground_truth.cuda()\n",
        "\n",
        "\n",
        "def train_model(obj_siren, mesh):\n",
        "  obj_siren = obj_siren.cuda()\n",
        "\n",
        "  total_steps = 3000 # Since the whole object is our dataset, this just means the number of gradient descent steps.\n",
        "  steps_til_summary = 50\n",
        "  loss1, loss2 = -1.0, -1.0\n",
        "  execution_time_lst = []\n",
        "  # In this training cycle, I use two losses to optimize both occupancy F1 scores.\n",
        "  # Note that I change points for training to avoid overfitting. \n",
        "  # Actually, it helps significantly to decrease loss over time.\n",
        "  for step in tqdm(range(total_steps)):\n",
        "      start_time = time.time()\n",
        "      points_near_surface, ground_truth_near_surface = get_near_surface_points_and_truth_cuda(mesh)\n",
        "\n",
        "      optim = torch.optim.Adam(lr=1e-5, params=obj_siren.parameters())\n",
        "      sdf_near_surface = obj_siren(points_near_surface)\n",
        "      loss1 = ((sdf_near_surface - ground_truth_near_surface)**2).mean()\n",
        "      optim.zero_grad()\n",
        "      loss1.backward()\n",
        "      optim.step()\n",
        "        \n",
        "      if not step % steps_til_summary:\n",
        "          print(f'\\n\\nStep {step}, loss_near_surface: {loss1}, loss_random: {loss2}\\n\\n')\n",
        "          points_random, ground_truth_random = get_random_points_and_truth_cuda(mesh)\n",
        "\n",
        "      sdf_random = obj_siren(points_random)\n",
        "      optim = torch.optim.Adam(lr=3e-6, params=obj_siren.parameters())\n",
        "      loss2 = ((sdf_random - ground_truth_random)**2).mean()\n",
        "      optim.zero_grad()\n",
        "      loss2.backward()\n",
        "      optim.step()\n",
        "      end_time = time.time()\n",
        "      execution_time_lst.append(end_time - start_time)\n",
        "\n",
        "  print(f'\\n\\nStep {total_steps}, loss_near_surface: {loss1}, loss_random: {loss2}\\n\\n')\n",
        "\n",
        "  return obj_siren, execution_time_lst\n"
      ],
      "metadata": {
        "id": "uWmLRcWjB2HA"
      },
      "execution_count": 61,
      "outputs": []
    },
    {
      "cell_type": "code",
      "source": [
        "def run_model(obj_idx):\n",
        "  # Train the model\n",
        "  obj_siren = SirenNet(\n",
        "      dim_in = 3,\n",
        "      dim_hidden = 240,\n",
        "      dim_out = 1,\n",
        "      num_layers = 5,\n",
        "      final_activation = nn.Identity(),\n",
        "      w0_initial = 30\n",
        "  )\n",
        "  mesh = trimesh.load_mesh(DATA_DIR + f'test_task_meshes/{obj_idx}.obj')\n",
        "  obj_siren, execution_time_lst = train_model(obj_siren, mesh)\n",
        "\n",
        "  model_save_path = DATA_DIR + f'siren_model/obj_{obj_idx}.pt'\n",
        "  torch.save(obj_siren.state_dict(), model_save_path)\n",
        "\n",
        "  # Calculate metrics for the model\n",
        "  memory_in_kb = os.path.getsize(model_save_path) / 1024\n",
        "  avg_time_secs = sum(execution_time_lst) / len(execution_time_lst)\n",
        "\n",
        "  print(f'Avg time in seconds: {avg_time_secs}')\n",
        "  print(f'Memory usage in Kb: {memory_in_kb}')\n",
        "\n",
        "  return {\n",
        "    'avg_time_secs': avg_time_secs,\n",
        "    'memory_usage': memory_in_kb\n",
        "  }\n"
      ],
      "metadata": {
        "id": "0NP3EjA4NUaV"
      },
      "execution_count": 62,
      "outputs": []
    },
    {
      "cell_type": "markdown",
      "source": [
        "## Train models"
      ],
      "metadata": {
        "id": "clhtU3-7CxD8"
      }
    },
    {
      "cell_type": "code",
      "source": [
        "models_metrics = {}"
      ],
      "metadata": {
        "id": "2o_alf8OyBG8"
      },
      "execution_count": 63,
      "outputs": []
    },
    {
      "cell_type": "code",
      "source": [
        "obj_idx = 1\n",
        "models_metrics[f'obj_{obj_idx}'] = run_model(obj_idx)"
      ],
      "metadata": {
        "colab": {
          "base_uri": "https://localhost:8080/"
        },
        "id": "ued3i5y-NWlX",
        "outputId": "d9c944eb-ca41-49bc-c41c-c1d9dfb5271f"
      },
      "execution_count": 64,
      "outputs": [
        {
          "output_type": "stream",
          "name": "stderr",
          "text": [
            "\r  0%|          | 0/3000 [00:00<?, ?it/s]"
          ]
        },
        {
          "output_type": "stream",
          "name": "stdout",
          "text": [
            "\n",
            "\n",
            "Step 0, loss_near_surface: 0.7218019962310791, loss_random: -1.0\n",
            "\n",
            "\n"
          ]
        },
        {
          "output_type": "stream",
          "name": "stderr",
          "text": [
            "  2%|▏         | 48/3000 [00:05<01:44, 28.37it/s]"
          ]
        },
        {
          "output_type": "stream",
          "name": "stdout",
          "text": [
            "\n",
            "\n",
            "Step 50, loss_near_surface: 0.21346572041511536, loss_random: 0.9188302159309387\n",
            "\n",
            "\n"
          ]
        },
        {
          "output_type": "stream",
          "name": "stderr",
          "text": [
            "  3%|▎         | 99/3000 [00:09<01:30, 31.96it/s]"
          ]
        },
        {
          "output_type": "stream",
          "name": "stdout",
          "text": [
            "\n",
            "\n",
            "Step 100, loss_near_surface: 0.07352349907159805, loss_random: 0.7744975090026855\n",
            "\n",
            "\n"
          ]
        },
        {
          "output_type": "stream",
          "name": "stderr",
          "text": [
            "  5%|▍         | 147/3000 [00:12<01:38, 28.86it/s]"
          ]
        },
        {
          "output_type": "stream",
          "name": "stdout",
          "text": [
            "\n",
            "\n",
            "Step 150, loss_near_surface: 0.04370163381099701, loss_random: 0.6362028121948242\n",
            "\n",
            "\n"
          ]
        },
        {
          "output_type": "stream",
          "name": "stderr",
          "text": [
            "  7%|▋         | 198/3000 [00:16<01:32, 30.23it/s]"
          ]
        },
        {
          "output_type": "stream",
          "name": "stdout",
          "text": [
            "\n",
            "\n",
            "Step 200, loss_near_surface: 0.030734173953533173, loss_random: 0.5191296935081482\n",
            "\n",
            "\n"
          ]
        },
        {
          "output_type": "stream",
          "name": "stderr",
          "text": [
            "  8%|▊         | 249/3000 [00:20<01:29, 30.84it/s]"
          ]
        },
        {
          "output_type": "stream",
          "name": "stdout",
          "text": [
            "\n",
            "\n",
            "Step 250, loss_near_surface: 0.02162740007042885, loss_random: 0.45983827114105225\n",
            "\n",
            "\n"
          ]
        },
        {
          "output_type": "stream",
          "name": "stderr",
          "text": [
            " 10%|▉         | 299/3000 [00:24<01:39, 27.16it/s]"
          ]
        },
        {
          "output_type": "stream",
          "name": "stdout",
          "text": [
            "\n",
            "\n",
            "Step 300, loss_near_surface: 0.01805521547794342, loss_random: 0.425927996635437\n",
            "\n",
            "\n"
          ]
        },
        {
          "output_type": "stream",
          "name": "stderr",
          "text": [
            " 12%|█▏        | 348/3000 [00:27<01:29, 29.79it/s]"
          ]
        },
        {
          "output_type": "stream",
          "name": "stdout",
          "text": [
            "\n",
            "\n",
            "Step 350, loss_near_surface: 0.01458708941936493, loss_random: 0.39427751302719116\n",
            "\n",
            "\n"
          ]
        },
        {
          "output_type": "stream",
          "name": "stderr",
          "text": [
            " 13%|█▎        | 400/3000 [00:31<01:24, 30.77it/s]"
          ]
        },
        {
          "output_type": "stream",
          "name": "stdout",
          "text": [
            "\n",
            "\n",
            "Step 400, loss_near_surface: 0.01186657790094614, loss_random: 0.36263883113861084\n",
            "\n",
            "\n"
          ]
        },
        {
          "output_type": "stream",
          "name": "stderr",
          "text": [
            " 15%|█▍        | 448/3000 [00:35<01:26, 29.48it/s]"
          ]
        },
        {
          "output_type": "stream",
          "name": "stdout",
          "text": [
            "\n",
            "\n",
            "Step 450, loss_near_surface: 0.010732442140579224, loss_random: 0.33402782678604126\n",
            "\n",
            "\n"
          ]
        },
        {
          "output_type": "stream",
          "name": "stderr",
          "text": [
            " 17%|█▋        | 499/3000 [00:39<01:17, 32.24it/s]"
          ]
        },
        {
          "output_type": "stream",
          "name": "stdout",
          "text": [
            "\n",
            "\n",
            "Step 500, loss_near_surface: 0.00940815731883049, loss_random: 0.3125375509262085\n",
            "\n",
            "\n"
          ]
        },
        {
          "output_type": "stream",
          "name": "stderr",
          "text": [
            " 18%|█▊        | 550/3000 [00:43<01:19, 30.85it/s]"
          ]
        },
        {
          "output_type": "stream",
          "name": "stdout",
          "text": [
            "\n",
            "\n",
            "Step 550, loss_near_surface: 0.008246220648288727, loss_random: 0.29463058710098267\n",
            "\n",
            "\n"
          ]
        },
        {
          "output_type": "stream",
          "name": "stderr",
          "text": [
            " 20%|█▉        | 598/3000 [00:46<01:20, 29.72it/s]"
          ]
        },
        {
          "output_type": "stream",
          "name": "stdout",
          "text": [
            "\n",
            "\n",
            "Step 600, loss_near_surface: 0.007441410329192877, loss_random: 0.274708092212677\n",
            "\n",
            "\n"
          ]
        },
        {
          "output_type": "stream",
          "name": "stderr",
          "text": [
            " 22%|██▏       | 649/3000 [00:50<01:16, 30.76it/s]"
          ]
        },
        {
          "output_type": "stream",
          "name": "stdout",
          "text": [
            "\n",
            "\n",
            "Step 650, loss_near_surface: 0.006803521886467934, loss_random: 0.2593974471092224\n",
            "\n",
            "\n"
          ]
        },
        {
          "output_type": "stream",
          "name": "stderr",
          "text": [
            " 23%|██▎       | 699/3000 [00:54<01:20, 28.50it/s]"
          ]
        },
        {
          "output_type": "stream",
          "name": "stdout",
          "text": [
            "\n",
            "\n",
            "Step 700, loss_near_surface: 0.006611763499677181, loss_random: 0.2588096857070923\n",
            "\n",
            "\n"
          ]
        },
        {
          "output_type": "stream",
          "name": "stderr",
          "text": [
            " 25%|██▌       | 750/3000 [00:58<01:13, 30.49it/s]"
          ]
        },
        {
          "output_type": "stream",
          "name": "stdout",
          "text": [
            "\n",
            "\n",
            "Step 750, loss_near_surface: 0.0059786573983728886, loss_random: 0.2421930432319641\n",
            "\n",
            "\n"
          ]
        },
        {
          "output_type": "stream",
          "name": "stderr",
          "text": [
            " 27%|██▋       | 799/3000 [01:02<01:22, 26.76it/s]"
          ]
        },
        {
          "output_type": "stream",
          "name": "stdout",
          "text": [
            "\n",
            "\n",
            "Step 800, loss_near_surface: 0.0060599083080887794, loss_random: 0.2331790030002594\n",
            "\n",
            "\n"
          ]
        },
        {
          "output_type": "stream",
          "name": "stderr",
          "text": [
            " 28%|██▊       | 849/3000 [01:06<01:10, 30.60it/s]"
          ]
        },
        {
          "output_type": "stream",
          "name": "stdout",
          "text": [
            "\n",
            "\n",
            "Step 850, loss_near_surface: 0.005574765615165234, loss_random: 0.2284260243177414\n",
            "\n",
            "\n"
          ]
        },
        {
          "output_type": "stream",
          "name": "stderr",
          "text": [
            " 30%|███       | 900/3000 [01:09<01:06, 31.66it/s]"
          ]
        },
        {
          "output_type": "stream",
          "name": "stdout",
          "text": [
            "\n",
            "\n",
            "Step 900, loss_near_surface: 0.005364181473851204, loss_random: 0.2334778904914856\n",
            "\n",
            "\n"
          ]
        },
        {
          "output_type": "stream",
          "name": "stderr",
          "text": [
            " 32%|███▏      | 948/3000 [01:13<01:10, 29.16it/s]"
          ]
        },
        {
          "output_type": "stream",
          "name": "stdout",
          "text": [
            "\n",
            "\n",
            "Step 950, loss_near_surface: 0.005591633729636669, loss_random: 0.22256344556808472\n",
            "\n",
            "\n"
          ]
        },
        {
          "output_type": "stream",
          "name": "stderr",
          "text": [
            " 33%|███▎      | 999/3000 [01:17<01:05, 30.50it/s]"
          ]
        },
        {
          "output_type": "stream",
          "name": "stdout",
          "text": [
            "\n",
            "\n",
            "Step 1000, loss_near_surface: 0.0047337631694972515, loss_random: 0.21382951736450195\n",
            "\n",
            "\n"
          ]
        },
        {
          "output_type": "stream",
          "name": "stderr",
          "text": [
            " 35%|███▍      | 1047/3000 [01:21<01:08, 28.39it/s]"
          ]
        },
        {
          "output_type": "stream",
          "name": "stdout",
          "text": [
            "\n",
            "\n",
            "Step 1050, loss_near_surface: 0.0047940704971551895, loss_random: 0.20470809936523438\n",
            "\n",
            "\n"
          ]
        },
        {
          "output_type": "stream",
          "name": "stderr",
          "text": [
            " 37%|███▋      | 1098/3000 [01:25<01:23, 22.85it/s]"
          ]
        },
        {
          "output_type": "stream",
          "name": "stdout",
          "text": [
            "\n",
            "\n",
            "Step 1100, loss_near_surface: 0.005018982104957104, loss_random: 0.2044515162706375\n",
            "\n",
            "\n"
          ]
        },
        {
          "output_type": "stream",
          "name": "stderr",
          "text": [
            " 38%|███▊      | 1148/3000 [01:30<01:03, 29.24it/s]"
          ]
        },
        {
          "output_type": "stream",
          "name": "stdout",
          "text": [
            "\n",
            "\n",
            "Step 1150, loss_near_surface: 0.004934268072247505, loss_random: 0.20189911127090454\n",
            "\n",
            "\n"
          ]
        },
        {
          "output_type": "stream",
          "name": "stderr",
          "text": [
            " 40%|███▉      | 1199/3000 [01:34<01:00, 29.66it/s]"
          ]
        },
        {
          "output_type": "stream",
          "name": "stdout",
          "text": [
            "\n",
            "\n",
            "Step 1200, loss_near_surface: 0.004429211374372244, loss_random: 0.2046319544315338\n",
            "\n",
            "\n"
          ]
        },
        {
          "output_type": "stream",
          "name": "stderr",
          "text": [
            " 42%|████▏     | 1250/3000 [01:37<00:56, 30.70it/s]"
          ]
        },
        {
          "output_type": "stream",
          "name": "stdout",
          "text": [
            "\n",
            "\n",
            "Step 1250, loss_near_surface: 0.004673964809626341, loss_random: 0.19895991683006287\n",
            "\n",
            "\n"
          ]
        },
        {
          "output_type": "stream",
          "name": "stderr",
          "text": [
            " 43%|████▎     | 1297/3000 [01:41<01:01, 27.83it/s]"
          ]
        },
        {
          "output_type": "stream",
          "name": "stdout",
          "text": [
            "\n",
            "\n",
            "Step 1300, loss_near_surface: 0.004649532027542591, loss_random: 0.18792825937271118\n",
            "\n",
            "\n"
          ]
        },
        {
          "output_type": "stream",
          "name": "stderr",
          "text": [
            " 45%|████▍     | 1348/3000 [01:45<00:54, 30.44it/s]"
          ]
        },
        {
          "output_type": "stream",
          "name": "stdout",
          "text": [
            "\n",
            "\n",
            "Step 1350, loss_near_surface: 0.004791762679815292, loss_random: 0.1894017457962036\n",
            "\n",
            "\n"
          ]
        },
        {
          "output_type": "stream",
          "name": "stderr",
          "text": [
            " 47%|████▋     | 1399/3000 [01:49<00:51, 31.36it/s]"
          ]
        },
        {
          "output_type": "stream",
          "name": "stdout",
          "text": [
            "\n",
            "\n",
            "Step 1400, loss_near_surface: 0.004391280002892017, loss_random: 0.18646767735481262\n",
            "\n",
            "\n"
          ]
        },
        {
          "output_type": "stream",
          "name": "stderr",
          "text": [
            " 48%|████▊     | 1449/3000 [01:52<00:50, 30.68it/s]"
          ]
        },
        {
          "output_type": "stream",
          "name": "stdout",
          "text": [
            "\n",
            "\n",
            "Step 1450, loss_near_surface: 0.004585151094943285, loss_random: 0.18304312229156494\n",
            "\n",
            "\n"
          ]
        },
        {
          "output_type": "stream",
          "name": "stderr",
          "text": [
            " 50%|█████     | 1500/3000 [01:56<00:48, 30.88it/s]"
          ]
        },
        {
          "output_type": "stream",
          "name": "stdout",
          "text": [
            "\n",
            "\n",
            "Step 1500, loss_near_surface: 0.0039173332042992115, loss_random: 0.18024489283561707\n",
            "\n",
            "\n"
          ]
        },
        {
          "output_type": "stream",
          "name": "stderr",
          "text": [
            " 52%|█████▏    | 1548/3000 [02:00<00:46, 31.43it/s]"
          ]
        },
        {
          "output_type": "stream",
          "name": "stdout",
          "text": [
            "\n",
            "\n",
            "Step 1550, loss_near_surface: 0.004318998660892248, loss_random: 0.17819744348526\n",
            "\n",
            "\n"
          ]
        },
        {
          "output_type": "stream",
          "name": "stderr",
          "text": [
            " 53%|█████▎    | 1599/3000 [02:03<00:44, 31.34it/s]"
          ]
        },
        {
          "output_type": "stream",
          "name": "stdout",
          "text": [
            "\n",
            "\n",
            "Step 1600, loss_near_surface: 0.004224228207021952, loss_random: 0.1809142678976059\n",
            "\n",
            "\n"
          ]
        },
        {
          "output_type": "stream",
          "name": "stderr",
          "text": [
            " 55%|█████▍    | 1647/3000 [02:07<00:42, 31.98it/s]"
          ]
        },
        {
          "output_type": "stream",
          "name": "stdout",
          "text": [
            "\n",
            "\n",
            "Step 1650, loss_near_surface: 0.0035767669323831797, loss_random: 0.17783117294311523\n",
            "\n",
            "\n"
          ]
        },
        {
          "output_type": "stream",
          "name": "stderr",
          "text": [
            " 57%|█████▋    | 1698/3000 [02:11<00:44, 29.33it/s]"
          ]
        },
        {
          "output_type": "stream",
          "name": "stdout",
          "text": [
            "\n",
            "\n",
            "Step 1700, loss_near_surface: 0.004499154631048441, loss_random: 0.17306643724441528\n",
            "\n",
            "\n"
          ]
        },
        {
          "output_type": "stream",
          "name": "stderr",
          "text": [
            " 58%|█████▊    | 1749/3000 [02:14<00:40, 30.64it/s]"
          ]
        },
        {
          "output_type": "stream",
          "name": "stdout",
          "text": [
            "\n",
            "\n",
            "Step 1750, loss_near_surface: 0.003987687639892101, loss_random: 0.1714497208595276\n",
            "\n",
            "\n"
          ]
        },
        {
          "output_type": "stream",
          "name": "stderr",
          "text": [
            " 60%|██████    | 1800/3000 [02:18<00:38, 30.87it/s]"
          ]
        },
        {
          "output_type": "stream",
          "name": "stdout",
          "text": [
            "\n",
            "\n",
            "Step 1800, loss_near_surface: 0.003585035912692547, loss_random: 0.1724514365196228\n",
            "\n",
            "\n"
          ]
        },
        {
          "output_type": "stream",
          "name": "stderr",
          "text": [
            " 62%|██████▏   | 1850/3000 [02:22<00:38, 30.17it/s]"
          ]
        },
        {
          "output_type": "stream",
          "name": "stdout",
          "text": [
            "\n",
            "\n",
            "Step 1850, loss_near_surface: 0.003934913314878941, loss_random: 0.1760043352842331\n",
            "\n",
            "\n"
          ]
        },
        {
          "output_type": "stream",
          "name": "stderr",
          "text": [
            " 63%|██████▎   | 1898/3000 [02:26<00:36, 30.05it/s]"
          ]
        },
        {
          "output_type": "stream",
          "name": "stdout",
          "text": [
            "\n",
            "\n",
            "Step 1900, loss_near_surface: 0.0037962240166962147, loss_random: 0.17282839119434357\n",
            "\n",
            "\n"
          ]
        },
        {
          "output_type": "stream",
          "name": "stderr",
          "text": [
            " 65%|██████▍   | 1949/3000 [02:29<00:33, 31.37it/s]"
          ]
        },
        {
          "output_type": "stream",
          "name": "stdout",
          "text": [
            "\n",
            "\n",
            "Step 1950, loss_near_surface: 0.003779152175411582, loss_random: 0.1687135100364685\n",
            "\n",
            "\n"
          ]
        },
        {
          "output_type": "stream",
          "name": "stderr",
          "text": [
            " 67%|██████▋   | 2000/3000 [02:35<00:33, 29.53it/s]"
          ]
        },
        {
          "output_type": "stream",
          "name": "stdout",
          "text": [
            "\n",
            "\n",
            "Step 2000, loss_near_surface: 0.0035368618555366993, loss_random: 0.16782914102077484\n",
            "\n",
            "\n"
          ]
        },
        {
          "output_type": "stream",
          "name": "stderr",
          "text": [
            " 68%|██████▊   | 2048/3000 [02:38<00:31, 30.31it/s]"
          ]
        },
        {
          "output_type": "stream",
          "name": "stdout",
          "text": [
            "\n",
            "\n",
            "Step 2050, loss_near_surface: 0.0034690843895077705, loss_random: 0.16188371181488037\n",
            "\n",
            "\n"
          ]
        },
        {
          "output_type": "stream",
          "name": "stderr",
          "text": [
            " 70%|██████▉   | 2097/3000 [02:42<00:30, 29.19it/s]"
          ]
        },
        {
          "output_type": "stream",
          "name": "stdout",
          "text": [
            "\n",
            "\n",
            "Step 2100, loss_near_surface: 0.0037760967388749123, loss_random: 0.1624014675617218\n",
            "\n",
            "\n"
          ]
        },
        {
          "output_type": "stream",
          "name": "stderr",
          "text": [
            " 72%|███████▏  | 2148/3000 [02:46<00:27, 30.57it/s]"
          ]
        },
        {
          "output_type": "stream",
          "name": "stdout",
          "text": [
            "\n",
            "\n",
            "Step 2150, loss_near_surface: 0.003863527439534664, loss_random: 0.16452156007289886\n",
            "\n",
            "\n"
          ]
        },
        {
          "output_type": "stream",
          "name": "stderr",
          "text": [
            " 73%|███████▎  | 2199/3000 [02:49<00:25, 31.99it/s]"
          ]
        },
        {
          "output_type": "stream",
          "name": "stdout",
          "text": [
            "\n",
            "\n",
            "Step 2200, loss_near_surface: 0.004215013235807419, loss_random: 0.16841790080070496\n",
            "\n",
            "\n"
          ]
        },
        {
          "output_type": "stream",
          "name": "stderr",
          "text": [
            " 75%|███████▌  | 2250/3000 [02:53<00:23, 31.26it/s]"
          ]
        },
        {
          "output_type": "stream",
          "name": "stdout",
          "text": [
            "\n",
            "\n",
            "Step 2250, loss_near_surface: 0.0034092916175723076, loss_random: 0.16059745848178864\n",
            "\n",
            "\n"
          ]
        },
        {
          "output_type": "stream",
          "name": "stderr",
          "text": [
            " 77%|███████▋  | 2300/3000 [02:57<00:22, 30.82it/s]"
          ]
        },
        {
          "output_type": "stream",
          "name": "stdout",
          "text": [
            "\n",
            "\n",
            "Step 2300, loss_near_surface: 0.0034214756451547146, loss_random: 0.15423254668712616\n",
            "\n",
            "\n"
          ]
        },
        {
          "output_type": "stream",
          "name": "stderr",
          "text": [
            " 78%|███████▊  | 2348/3000 [03:01<00:23, 27.83it/s]"
          ]
        },
        {
          "output_type": "stream",
          "name": "stdout",
          "text": [
            "\n",
            "\n",
            "Step 2350, loss_near_surface: 0.0038254098035395145, loss_random: 0.15587222576141357\n",
            "\n",
            "\n"
          ]
        },
        {
          "output_type": "stream",
          "name": "stderr",
          "text": [
            " 80%|███████▉  | 2399/3000 [03:05<00:19, 31.17it/s]"
          ]
        },
        {
          "output_type": "stream",
          "name": "stdout",
          "text": [
            "\n",
            "\n",
            "Step 2400, loss_near_surface: 0.004264897666871548, loss_random: 0.1553688943386078\n",
            "\n",
            "\n"
          ]
        },
        {
          "output_type": "stream",
          "name": "stderr",
          "text": [
            " 82%|████████▏ | 2447/3000 [03:08<00:18, 30.35it/s]"
          ]
        },
        {
          "output_type": "stream",
          "name": "stdout",
          "text": [
            "\n",
            "\n",
            "Step 2450, loss_near_surface: 0.004096280317753553, loss_random: 0.16173504292964935\n",
            "\n",
            "\n"
          ]
        },
        {
          "output_type": "stream",
          "name": "stderr",
          "text": [
            " 83%|████████▎ | 2497/3000 [03:12<00:16, 30.67it/s]"
          ]
        },
        {
          "output_type": "stream",
          "name": "stdout",
          "text": [
            "\n",
            "\n",
            "Step 2500, loss_near_surface: 0.003623925382271409, loss_random: 0.1577661782503128\n",
            "\n",
            "\n"
          ]
        },
        {
          "output_type": "stream",
          "name": "stderr",
          "text": [
            " 85%|████████▍ | 2548/3000 [03:16<00:15, 29.69it/s]"
          ]
        },
        {
          "output_type": "stream",
          "name": "stdout",
          "text": [
            "\n",
            "\n",
            "Step 2550, loss_near_surface: 0.0037961634807288647, loss_random: 0.15804636478424072\n",
            "\n",
            "\n"
          ]
        },
        {
          "output_type": "stream",
          "name": "stderr",
          "text": [
            " 87%|████████▋ | 2599/3000 [03:20<00:12, 31.91it/s]"
          ]
        },
        {
          "output_type": "stream",
          "name": "stdout",
          "text": [
            "\n",
            "\n",
            "Step 2600, loss_near_surface: 0.0034201338421553373, loss_random: 0.1559937298297882\n",
            "\n",
            "\n"
          ]
        },
        {
          "output_type": "stream",
          "name": "stderr",
          "text": [
            " 88%|████████▊ | 2650/3000 [03:24<00:12, 28.92it/s]"
          ]
        },
        {
          "output_type": "stream",
          "name": "stdout",
          "text": [
            "\n",
            "\n",
            "Step 2650, loss_near_surface: 0.003430616110563278, loss_random: 0.15158113837242126\n",
            "\n",
            "\n"
          ]
        },
        {
          "output_type": "stream",
          "name": "stderr",
          "text": [
            " 90%|████████▉ | 2697/3000 [03:27<00:10, 30.08it/s]"
          ]
        },
        {
          "output_type": "stream",
          "name": "stdout",
          "text": [
            "\n",
            "\n",
            "Step 2700, loss_near_surface: 0.0036205134820193052, loss_random: 0.15104863047599792\n",
            "\n",
            "\n"
          ]
        },
        {
          "output_type": "stream",
          "name": "stderr",
          "text": [
            " 92%|█████████▏| 2748/3000 [03:31<00:08, 29.59it/s]"
          ]
        },
        {
          "output_type": "stream",
          "name": "stdout",
          "text": [
            "\n",
            "\n",
            "Step 2750, loss_near_surface: 0.0037096019368618727, loss_random: 0.15650701522827148\n",
            "\n",
            "\n"
          ]
        },
        {
          "output_type": "stream",
          "name": "stderr",
          "text": [
            " 93%|█████████▎| 2799/3000 [03:35<00:06, 30.09it/s]"
          ]
        },
        {
          "output_type": "stream",
          "name": "stdout",
          "text": [
            "\n",
            "\n",
            "Step 2800, loss_near_surface: 0.0037264670245349407, loss_random: 0.14931315183639526\n",
            "\n",
            "\n"
          ]
        },
        {
          "output_type": "stream",
          "name": "stderr",
          "text": [
            " 95%|█████████▌| 2850/3000 [03:39<00:04, 32.23it/s]"
          ]
        },
        {
          "output_type": "stream",
          "name": "stdout",
          "text": [
            "\n",
            "\n",
            "Step 2850, loss_near_surface: 0.003647778183221817, loss_random: 0.15078973770141602\n",
            "\n",
            "\n"
          ]
        },
        {
          "output_type": "stream",
          "name": "stderr",
          "text": [
            " 97%|█████████▋| 2897/3000 [03:42<00:03, 28.97it/s]"
          ]
        },
        {
          "output_type": "stream",
          "name": "stdout",
          "text": [
            "\n",
            "\n",
            "Step 2900, loss_near_surface: 0.003771301591768861, loss_random: 0.15448066592216492\n",
            "\n",
            "\n"
          ]
        },
        {
          "output_type": "stream",
          "name": "stderr",
          "text": [
            " 98%|█████████▊| 2947/3000 [03:46<00:01, 29.58it/s]"
          ]
        },
        {
          "output_type": "stream",
          "name": "stdout",
          "text": [
            "\n",
            "\n",
            "Step 2950, loss_near_surface: 0.0036455783993005753, loss_random: 0.14840179681777954\n",
            "\n",
            "\n"
          ]
        },
        {
          "output_type": "stream",
          "name": "stderr",
          "text": [
            "100%|██████████| 3000/3000 [03:50<00:00, 13.03it/s]"
          ]
        },
        {
          "output_type": "stream",
          "name": "stdout",
          "text": [
            "\n",
            "\n",
            "Step 3000, loss_near_surface: 0.003837680211290717, loss_random: 0.15215127170085907\n",
            "\n",
            "\n",
            "Avg time in seconds: 0.0762248059908549\n",
            "Memory usage in Kb: 912.0009765625\n"
          ]
        },
        {
          "output_type": "stream",
          "name": "stderr",
          "text": [
            "\n"
          ]
        }
      ]
    },
    {
      "cell_type": "code",
      "source": [
        "obj_idx = 2\n",
        "models_metrics[f'obj_{obj_idx}'] = run_model(obj_idx)"
      ],
      "metadata": {
        "colab": {
          "base_uri": "https://localhost:8080/"
        },
        "id": "OkG8rBKsvSBl",
        "outputId": "64dfec54-0487-4567-f776-86eff1845a34"
      },
      "execution_count": 65,
      "outputs": [
        {
          "output_type": "stream",
          "name": "stderr",
          "text": [
            "\r  0%|          | 0/3000 [00:00<?, ?it/s]"
          ]
        },
        {
          "output_type": "stream",
          "name": "stdout",
          "text": [
            "\n",
            "\n",
            "Step 0, loss_near_surface: 0.5600359439849854, loss_random: -1.0\n",
            "\n",
            "\n"
          ]
        },
        {
          "output_type": "stream",
          "name": "stderr",
          "text": [
            "  2%|▏         | 49/3000 [00:12<04:17, 11.48it/s]"
          ]
        },
        {
          "output_type": "stream",
          "name": "stdout",
          "text": [
            "\n",
            "\n",
            "Step 50, loss_near_surface: 0.19194167852401733, loss_random: 0.5526593327522278\n",
            "\n",
            "\n"
          ]
        },
        {
          "output_type": "stream",
          "name": "stderr",
          "text": [
            "  3%|▎         | 99/3000 [00:24<04:20, 11.13it/s]"
          ]
        },
        {
          "output_type": "stream",
          "name": "stdout",
          "text": [
            "\n",
            "\n",
            "Step 100, loss_near_surface: 0.0856151282787323, loss_random: 0.4628324806690216\n",
            "\n",
            "\n"
          ]
        },
        {
          "output_type": "stream",
          "name": "stderr",
          "text": [
            "  5%|▍         | 149/3000 [00:36<04:14, 11.22it/s]"
          ]
        },
        {
          "output_type": "stream",
          "name": "stdout",
          "text": [
            "\n",
            "\n",
            "Step 150, loss_near_surface: 0.04916750639677048, loss_random: 0.41221922636032104\n",
            "\n",
            "\n"
          ]
        },
        {
          "output_type": "stream",
          "name": "stderr",
          "text": [
            "  7%|▋         | 199/3000 [00:48<03:56, 11.83it/s]"
          ]
        },
        {
          "output_type": "stream",
          "name": "stdout",
          "text": [
            "\n",
            "\n",
            "Step 200, loss_near_surface: 0.03444152697920799, loss_random: 0.3841450810432434\n",
            "\n",
            "\n"
          ]
        },
        {
          "output_type": "stream",
          "name": "stderr",
          "text": [
            "  8%|▊         | 249/3000 [01:00<04:01, 11.40it/s]"
          ]
        },
        {
          "output_type": "stream",
          "name": "stdout",
          "text": [
            "\n",
            "\n",
            "Step 250, loss_near_surface: 0.025260671973228455, loss_random: 0.339975506067276\n",
            "\n",
            "\n"
          ]
        },
        {
          "output_type": "stream",
          "name": "stderr",
          "text": [
            " 10%|▉         | 299/3000 [01:12<03:53, 11.56it/s]"
          ]
        },
        {
          "output_type": "stream",
          "name": "stdout",
          "text": [
            "\n",
            "\n",
            "Step 300, loss_near_surface: 0.019201673567295074, loss_random: 0.3311789631843567\n",
            "\n",
            "\n"
          ]
        },
        {
          "output_type": "stream",
          "name": "stderr",
          "text": [
            " 12%|█▏        | 349/3000 [01:25<03:45, 11.75it/s]"
          ]
        },
        {
          "output_type": "stream",
          "name": "stdout",
          "text": [
            "\n",
            "\n",
            "Step 350, loss_near_surface: 0.01695706509053707, loss_random: 0.3066701292991638\n",
            "\n",
            "\n"
          ]
        },
        {
          "output_type": "stream",
          "name": "stderr",
          "text": [
            " 13%|█▎        | 399/3000 [01:37<03:45, 11.52it/s]"
          ]
        },
        {
          "output_type": "stream",
          "name": "stdout",
          "text": [
            "\n",
            "\n",
            "Step 400, loss_near_surface: 0.013966230675578117, loss_random: 0.2889817953109741\n",
            "\n",
            "\n"
          ]
        },
        {
          "output_type": "stream",
          "name": "stderr",
          "text": [
            " 15%|█▍        | 449/3000 [01:49<03:35, 11.85it/s]"
          ]
        },
        {
          "output_type": "stream",
          "name": "stdout",
          "text": [
            "\n",
            "\n",
            "Step 450, loss_near_surface: 0.012874113395810127, loss_random: 0.27431488037109375\n",
            "\n",
            "\n"
          ]
        },
        {
          "output_type": "stream",
          "name": "stderr",
          "text": [
            " 17%|█▋        | 499/3000 [02:00<03:19, 12.55it/s]"
          ]
        },
        {
          "output_type": "stream",
          "name": "stdout",
          "text": [
            "\n",
            "\n",
            "Step 500, loss_near_surface: 0.012287622317671776, loss_random: 0.2809264063835144\n",
            "\n",
            "\n"
          ]
        },
        {
          "output_type": "stream",
          "name": "stderr",
          "text": [
            " 18%|█▊        | 549/3000 [02:12<03:36, 11.33it/s]"
          ]
        },
        {
          "output_type": "stream",
          "name": "stdout",
          "text": [
            "\n",
            "\n",
            "Step 550, loss_near_surface: 0.010461224243044853, loss_random: 0.25774896144866943\n",
            "\n",
            "\n"
          ]
        },
        {
          "output_type": "stream",
          "name": "stderr",
          "text": [
            " 20%|█▉        | 599/3000 [02:24<03:37, 11.02it/s]"
          ]
        },
        {
          "output_type": "stream",
          "name": "stdout",
          "text": [
            "\n",
            "\n",
            "Step 600, loss_near_surface: 0.010097972117364407, loss_random: 0.25203925371170044\n",
            "\n",
            "\n"
          ]
        },
        {
          "output_type": "stream",
          "name": "stderr",
          "text": [
            " 22%|██▏       | 649/3000 [02:38<03:20, 11.72it/s]"
          ]
        },
        {
          "output_type": "stream",
          "name": "stdout",
          "text": [
            "\n",
            "\n",
            "Step 650, loss_near_surface: 0.008669503964483738, loss_random: 0.24667873978614807\n",
            "\n",
            "\n"
          ]
        },
        {
          "output_type": "stream",
          "name": "stderr",
          "text": [
            " 23%|██▎       | 699/3000 [02:50<03:12, 11.93it/s]"
          ]
        },
        {
          "output_type": "stream",
          "name": "stdout",
          "text": [
            "\n",
            "\n",
            "Step 700, loss_near_surface: 0.009104792028665543, loss_random: 0.24345271289348602\n",
            "\n",
            "\n"
          ]
        },
        {
          "output_type": "stream",
          "name": "stderr",
          "text": [
            " 25%|██▍       | 749/3000 [03:02<03:18, 11.35it/s]"
          ]
        },
        {
          "output_type": "stream",
          "name": "stdout",
          "text": [
            "\n",
            "\n",
            "Step 750, loss_near_surface: 0.007906133309006691, loss_random: 0.230141744017601\n",
            "\n",
            "\n"
          ]
        },
        {
          "output_type": "stream",
          "name": "stderr",
          "text": [
            " 27%|██▋       | 799/3000 [03:14<03:09, 11.61it/s]"
          ]
        },
        {
          "output_type": "stream",
          "name": "stdout",
          "text": [
            "\n",
            "\n",
            "Step 800, loss_near_surface: 0.006835894659161568, loss_random: 0.2344956398010254\n",
            "\n",
            "\n"
          ]
        },
        {
          "output_type": "stream",
          "name": "stderr",
          "text": [
            " 28%|██▊       | 849/3000 [03:26<03:05, 11.63it/s]"
          ]
        },
        {
          "output_type": "stream",
          "name": "stdout",
          "text": [
            "\n",
            "\n",
            "Step 850, loss_near_surface: 0.007157616317272186, loss_random: 0.23117169737815857\n",
            "\n",
            "\n"
          ]
        },
        {
          "output_type": "stream",
          "name": "stderr",
          "text": [
            " 30%|██▉       | 899/3000 [03:38<02:58, 11.78it/s]"
          ]
        },
        {
          "output_type": "stream",
          "name": "stdout",
          "text": [
            "\n",
            "\n",
            "Step 900, loss_near_surface: 0.006951192859560251, loss_random: 0.224736288189888\n",
            "\n",
            "\n"
          ]
        },
        {
          "output_type": "stream",
          "name": "stderr",
          "text": [
            " 32%|███▏      | 949/3000 [03:50<02:49, 12.12it/s]"
          ]
        },
        {
          "output_type": "stream",
          "name": "stdout",
          "text": [
            "\n",
            "\n",
            "Step 950, loss_near_surface: 0.006398503202944994, loss_random: 0.21963879466056824\n",
            "\n",
            "\n"
          ]
        },
        {
          "output_type": "stream",
          "name": "stderr",
          "text": [
            " 33%|███▎      | 999/3000 [04:02<02:52, 11.61it/s]"
          ]
        },
        {
          "output_type": "stream",
          "name": "stdout",
          "text": [
            "\n",
            "\n",
            "Step 1000, loss_near_surface: 0.0065901256166398525, loss_random: 0.2171044647693634\n",
            "\n",
            "\n"
          ]
        },
        {
          "output_type": "stream",
          "name": "stderr",
          "text": [
            " 35%|███▍      | 1049/3000 [04:14<02:51, 11.39it/s]"
          ]
        },
        {
          "output_type": "stream",
          "name": "stdout",
          "text": [
            "\n",
            "\n",
            "Step 1050, loss_near_surface: 0.005776094272732735, loss_random: 0.21835747361183167\n",
            "\n",
            "\n"
          ]
        },
        {
          "output_type": "stream",
          "name": "stderr",
          "text": [
            " 37%|███▋      | 1099/3000 [04:27<02:41, 11.81it/s]"
          ]
        },
        {
          "output_type": "stream",
          "name": "stdout",
          "text": [
            "\n",
            "\n",
            "Step 1100, loss_near_surface: 0.0056714508682489395, loss_random: 0.22038747370243073\n",
            "\n",
            "\n"
          ]
        },
        {
          "output_type": "stream",
          "name": "stderr",
          "text": [
            " 38%|███▊      | 1149/3000 [04:39<02:39, 11.61it/s]"
          ]
        },
        {
          "output_type": "stream",
          "name": "stdout",
          "text": [
            "\n",
            "\n",
            "Step 1150, loss_near_surface: 0.005291881039738655, loss_random: 0.20555762946605682\n",
            "\n",
            "\n"
          ]
        },
        {
          "output_type": "stream",
          "name": "stderr",
          "text": [
            " 40%|███▉      | 1199/3000 [04:51<02:35, 11.59it/s]"
          ]
        },
        {
          "output_type": "stream",
          "name": "stdout",
          "text": [
            "\n",
            "\n",
            "Step 1200, loss_near_surface: 0.005171497352421284, loss_random: 0.206121027469635\n",
            "\n",
            "\n"
          ]
        },
        {
          "output_type": "stream",
          "name": "stderr",
          "text": [
            " 42%|████▏     | 1249/3000 [05:04<02:33, 11.41it/s]"
          ]
        },
        {
          "output_type": "stream",
          "name": "stdout",
          "text": [
            "\n",
            "\n",
            "Step 1250, loss_near_surface: 0.0051812222227454185, loss_random: 0.21167169511318207\n",
            "\n",
            "\n"
          ]
        },
        {
          "output_type": "stream",
          "name": "stderr",
          "text": [
            " 43%|████▎     | 1299/3000 [05:16<02:24, 11.76it/s]"
          ]
        },
        {
          "output_type": "stream",
          "name": "stdout",
          "text": [
            "\n",
            "\n",
            "Step 1300, loss_near_surface: 0.005414432380348444, loss_random: 0.20142517983913422\n",
            "\n",
            "\n"
          ]
        },
        {
          "output_type": "stream",
          "name": "stderr",
          "text": [
            " 45%|████▍     | 1349/3000 [05:28<02:24, 11.44it/s]"
          ]
        },
        {
          "output_type": "stream",
          "name": "stdout",
          "text": [
            "\n",
            "\n",
            "Step 1350, loss_near_surface: 0.00533243827521801, loss_random: 0.20225243270397186\n",
            "\n",
            "\n"
          ]
        },
        {
          "output_type": "stream",
          "name": "stderr",
          "text": [
            " 47%|████▋     | 1400/3000 [05:40<02:10, 12.29it/s]"
          ]
        },
        {
          "output_type": "stream",
          "name": "stdout",
          "text": [
            "\n",
            "\n",
            "Step 1400, loss_near_surface: 0.004861262161284685, loss_random: 0.20004816353321075\n",
            "\n",
            "\n"
          ]
        },
        {
          "output_type": "stream",
          "name": "stderr",
          "text": [
            " 48%|████▊     | 1450/3000 [05:52<02:02, 12.61it/s]"
          ]
        },
        {
          "output_type": "stream",
          "name": "stdout",
          "text": [
            "\n",
            "\n",
            "Step 1450, loss_near_surface: 0.004996330477297306, loss_random: 0.20365935564041138\n",
            "\n",
            "\n"
          ]
        },
        {
          "output_type": "stream",
          "name": "stderr",
          "text": [
            " 50%|█████     | 1500/3000 [06:03<02:10, 11.52it/s]"
          ]
        },
        {
          "output_type": "stream",
          "name": "stdout",
          "text": [
            "\n",
            "\n",
            "Step 1500, loss_near_surface: 0.004796053282916546, loss_random: 0.20077252388000488\n",
            "\n",
            "\n"
          ]
        },
        {
          "output_type": "stream",
          "name": "stderr",
          "text": [
            " 52%|█████▏    | 1550/3000 [06:16<02:06, 11.49it/s]"
          ]
        },
        {
          "output_type": "stream",
          "name": "stdout",
          "text": [
            "\n",
            "\n",
            "Step 1550, loss_near_surface: 0.005128593184053898, loss_random: 0.19255346059799194\n",
            "\n",
            "\n"
          ]
        },
        {
          "output_type": "stream",
          "name": "stderr",
          "text": [
            " 53%|█████▎    | 1600/3000 [06:28<02:00, 11.63it/s]"
          ]
        },
        {
          "output_type": "stream",
          "name": "stdout",
          "text": [
            "\n",
            "\n",
            "Step 1600, loss_near_surface: 0.004918258637189865, loss_random: 0.19521310925483704\n",
            "\n",
            "\n"
          ]
        },
        {
          "output_type": "stream",
          "name": "stderr",
          "text": [
            " 55%|█████▌    | 1650/3000 [06:40<01:54, 11.76it/s]"
          ]
        },
        {
          "output_type": "stream",
          "name": "stdout",
          "text": [
            "\n",
            "\n",
            "Step 1650, loss_near_surface: 0.0049034059047698975, loss_random: 0.18511894345283508\n",
            "\n",
            "\n"
          ]
        },
        {
          "output_type": "stream",
          "name": "stderr",
          "text": [
            " 57%|█████▋    | 1700/3000 [06:52<01:56, 11.20it/s]"
          ]
        },
        {
          "output_type": "stream",
          "name": "stdout",
          "text": [
            "\n",
            "\n",
            "Step 1700, loss_near_surface: 0.004849521908909082, loss_random: 0.19326579570770264\n",
            "\n",
            "\n"
          ]
        },
        {
          "output_type": "stream",
          "name": "stderr",
          "text": [
            " 58%|█████▊    | 1750/3000 [07:04<01:46, 11.69it/s]"
          ]
        },
        {
          "output_type": "stream",
          "name": "stdout",
          "text": [
            "\n",
            "\n",
            "Step 1750, loss_near_surface: 0.005033181048929691, loss_random: 0.19339251518249512\n",
            "\n",
            "\n"
          ]
        },
        {
          "output_type": "stream",
          "name": "stderr",
          "text": [
            " 60%|██████    | 1800/3000 [07:16<01:40, 11.94it/s]"
          ]
        },
        {
          "output_type": "stream",
          "name": "stdout",
          "text": [
            "\n",
            "\n",
            "Step 1800, loss_near_surface: 0.004543524235486984, loss_random: 0.19419629871845245\n",
            "\n",
            "\n"
          ]
        },
        {
          "output_type": "stream",
          "name": "stderr",
          "text": [
            " 62%|██████▏   | 1850/3000 [07:28<01:40, 11.40it/s]"
          ]
        },
        {
          "output_type": "stream",
          "name": "stdout",
          "text": [
            "\n",
            "\n",
            "Step 1850, loss_near_surface: 0.004494617693126202, loss_random: 0.18661485612392426\n",
            "\n",
            "\n"
          ]
        },
        {
          "output_type": "stream",
          "name": "stderr",
          "text": [
            " 63%|██████▎   | 1900/3000 [07:42<01:41, 10.86it/s]"
          ]
        },
        {
          "output_type": "stream",
          "name": "stdout",
          "text": [
            "\n",
            "\n",
            "Step 1900, loss_near_surface: 0.004585551097989082, loss_random: 0.19137828052043915\n",
            "\n",
            "\n"
          ]
        },
        {
          "output_type": "stream",
          "name": "stderr",
          "text": [
            " 65%|██████▌   | 1950/3000 [07:54<01:30, 11.57it/s]"
          ]
        },
        {
          "output_type": "stream",
          "name": "stdout",
          "text": [
            "\n",
            "\n",
            "Step 1950, loss_near_surface: 0.004717993550002575, loss_random: 0.1793130487203598\n",
            "\n",
            "\n"
          ]
        },
        {
          "output_type": "stream",
          "name": "stderr",
          "text": [
            " 67%|██████▋   | 2000/3000 [08:06<01:27, 11.41it/s]"
          ]
        },
        {
          "output_type": "stream",
          "name": "stdout",
          "text": [
            "\n",
            "\n",
            "Step 2000, loss_near_surface: 0.004666617140173912, loss_random: 0.18319770693778992\n",
            "\n",
            "\n"
          ]
        },
        {
          "output_type": "stream",
          "name": "stderr",
          "text": [
            " 68%|██████▊   | 2050/3000 [08:18<01:21, 11.65it/s]"
          ]
        },
        {
          "output_type": "stream",
          "name": "stdout",
          "text": [
            "\n",
            "\n",
            "Step 2050, loss_near_surface: 0.004432075656950474, loss_random: 0.18716801702976227\n",
            "\n",
            "\n"
          ]
        },
        {
          "output_type": "stream",
          "name": "stderr",
          "text": [
            " 70%|██████▉   | 2099/3000 [08:30<01:13, 12.23it/s]"
          ]
        },
        {
          "output_type": "stream",
          "name": "stdout",
          "text": [
            "\n",
            "\n",
            "Step 2100, loss_near_surface: 0.004509232006967068, loss_random: 0.17775385081768036\n",
            "\n",
            "\n"
          ]
        },
        {
          "output_type": "stream",
          "name": "stderr",
          "text": [
            " 72%|███████▏  | 2149/3000 [08:42<01:15, 11.30it/s]"
          ]
        },
        {
          "output_type": "stream",
          "name": "stdout",
          "text": [
            "\n",
            "\n",
            "Step 2150, loss_near_surface: 0.004501733463257551, loss_random: 0.1800391674041748\n",
            "\n",
            "\n"
          ]
        },
        {
          "output_type": "stream",
          "name": "stderr",
          "text": [
            " 73%|███████▎  | 2199/3000 [08:54<01:08, 11.70it/s]"
          ]
        },
        {
          "output_type": "stream",
          "name": "stdout",
          "text": [
            "\n",
            "\n",
            "Step 2200, loss_near_surface: 0.004331004340201616, loss_random: 0.18207262456417084\n",
            "\n",
            "\n"
          ]
        },
        {
          "output_type": "stream",
          "name": "stderr",
          "text": [
            " 75%|███████▍  | 2249/3000 [09:06<01:05, 11.39it/s]"
          ]
        },
        {
          "output_type": "stream",
          "name": "stdout",
          "text": [
            "\n",
            "\n",
            "Step 2250, loss_near_surface: 0.004483403638005257, loss_random: 0.1742572784423828\n",
            "\n",
            "\n"
          ]
        },
        {
          "output_type": "stream",
          "name": "stderr",
          "text": [
            " 77%|███████▋  | 2299/3000 [09:18<01:00, 11.60it/s]"
          ]
        },
        {
          "output_type": "stream",
          "name": "stdout",
          "text": [
            "\n",
            "\n",
            "Step 2300, loss_near_surface: 0.004317702259868383, loss_random: 0.17157259583473206\n",
            "\n",
            "\n"
          ]
        },
        {
          "output_type": "stream",
          "name": "stderr",
          "text": [
            " 78%|███████▊  | 2349/3000 [09:30<00:51, 12.57it/s]"
          ]
        },
        {
          "output_type": "stream",
          "name": "stdout",
          "text": [
            "\n",
            "\n",
            "Step 2350, loss_near_surface: 0.0043372600339353085, loss_random: 0.18185551464557648\n",
            "\n",
            "\n"
          ]
        },
        {
          "output_type": "stream",
          "name": "stderr",
          "text": [
            " 80%|███████▉  | 2399/3000 [09:42<00:51, 11.59it/s]"
          ]
        },
        {
          "output_type": "stream",
          "name": "stdout",
          "text": [
            "\n",
            "\n",
            "Step 2400, loss_near_surface: 0.004578223451972008, loss_random: 0.17381414771080017\n",
            "\n",
            "\n"
          ]
        },
        {
          "output_type": "stream",
          "name": "stderr",
          "text": [
            " 82%|████████▏ | 2449/3000 [09:54<00:46, 11.74it/s]"
          ]
        },
        {
          "output_type": "stream",
          "name": "stdout",
          "text": [
            "\n",
            "\n",
            "Step 2450, loss_near_surface: 0.004087398760020733, loss_random: 0.1688970923423767\n",
            "\n",
            "\n"
          ]
        },
        {
          "output_type": "stream",
          "name": "stderr",
          "text": [
            " 83%|████████▎ | 2499/3000 [10:06<00:43, 11.62it/s]"
          ]
        },
        {
          "output_type": "stream",
          "name": "stdout",
          "text": [
            "\n",
            "\n",
            "Step 2500, loss_near_surface: 0.00417859572917223, loss_random: 0.1773909032344818\n",
            "\n",
            "\n"
          ]
        },
        {
          "output_type": "stream",
          "name": "stderr",
          "text": [
            " 85%|████████▍ | 2549/3000 [10:19<00:38, 11.77it/s]"
          ]
        },
        {
          "output_type": "stream",
          "name": "stdout",
          "text": [
            "\n",
            "\n",
            "Step 2550, loss_near_surface: 0.004143308382481337, loss_random: 0.17443281412124634\n",
            "\n",
            "\n"
          ]
        },
        {
          "output_type": "stream",
          "name": "stderr",
          "text": [
            " 87%|████████▋ | 2599/3000 [10:31<00:33, 11.89it/s]"
          ]
        },
        {
          "output_type": "stream",
          "name": "stdout",
          "text": [
            "\n",
            "\n",
            "Step 2600, loss_near_surface: 0.004074874799698591, loss_random: 0.16826339066028595\n",
            "\n",
            "\n"
          ]
        },
        {
          "output_type": "stream",
          "name": "stderr",
          "text": [
            " 88%|████████▊ | 2649/3000 [10:43<00:29, 11.78it/s]"
          ]
        },
        {
          "output_type": "stream",
          "name": "stdout",
          "text": [
            "\n",
            "\n",
            "Step 2650, loss_near_surface: 0.004063497297465801, loss_random: 0.1797316074371338\n",
            "\n",
            "\n"
          ]
        },
        {
          "output_type": "stream",
          "name": "stderr",
          "text": [
            " 90%|████████▉ | 2699/3000 [10:56<00:25, 11.81it/s]"
          ]
        },
        {
          "output_type": "stream",
          "name": "stdout",
          "text": [
            "\n",
            "\n",
            "Step 2700, loss_near_surface: 0.00427782628685236, loss_random: 0.1715758740901947\n",
            "\n",
            "\n"
          ]
        },
        {
          "output_type": "stream",
          "name": "stderr",
          "text": [
            " 92%|█████████▏| 2749/3000 [11:08<00:20, 11.97it/s]"
          ]
        },
        {
          "output_type": "stream",
          "name": "stdout",
          "text": [
            "\n",
            "\n",
            "Step 2750, loss_near_surface: 0.004341744817793369, loss_random: 0.16928140819072723\n",
            "\n",
            "\n"
          ]
        },
        {
          "output_type": "stream",
          "name": "stderr",
          "text": [
            " 93%|█████████▎| 2799/3000 [11:20<00:17, 11.60it/s]"
          ]
        },
        {
          "output_type": "stream",
          "name": "stdout",
          "text": [
            "\n",
            "\n",
            "Step 2800, loss_near_surface: 0.0038415035232901573, loss_random: 0.1671733260154724\n",
            "\n",
            "\n"
          ]
        },
        {
          "output_type": "stream",
          "name": "stderr",
          "text": [
            " 95%|█████████▍| 2849/3000 [11:32<00:13, 11.39it/s]"
          ]
        },
        {
          "output_type": "stream",
          "name": "stdout",
          "text": [
            "\n",
            "\n",
            "Step 2850, loss_near_surface: 0.004376912023872137, loss_random: 0.1742817461490631\n",
            "\n",
            "\n"
          ]
        },
        {
          "output_type": "stream",
          "name": "stderr",
          "text": [
            " 97%|█████████▋| 2899/3000 [11:45<00:08, 11.65it/s]"
          ]
        },
        {
          "output_type": "stream",
          "name": "stdout",
          "text": [
            "\n",
            "\n",
            "Step 2900, loss_near_surface: 0.0038738136645406485, loss_random: 0.16781310737133026\n",
            "\n",
            "\n"
          ]
        },
        {
          "output_type": "stream",
          "name": "stderr",
          "text": [
            " 98%|█████████▊| 2949/3000 [11:57<00:04, 11.50it/s]"
          ]
        },
        {
          "output_type": "stream",
          "name": "stdout",
          "text": [
            "\n",
            "\n",
            "Step 2950, loss_near_surface: 0.004474093671888113, loss_random: 0.16608433425426483\n",
            "\n",
            "\n"
          ]
        },
        {
          "output_type": "stream",
          "name": "stderr",
          "text": [
            "100%|██████████| 3000/3000 [12:10<00:00,  4.11it/s]"
          ]
        },
        {
          "output_type": "stream",
          "name": "stdout",
          "text": [
            "\n",
            "\n",
            "Step 3000, loss_near_surface: 0.004452974535524845, loss_random: 0.16153205931186676\n",
            "\n",
            "\n",
            "Avg time in seconds: 0.24256762337684631\n",
            "Memory usage in Kb: 912.0009765625\n"
          ]
        },
        {
          "output_type": "stream",
          "name": "stderr",
          "text": [
            "\n"
          ]
        }
      ]
    },
    {
      "cell_type": "code",
      "source": [
        "obj_idx = 3\n",
        "models_metrics[f'obj_{obj_idx}'] = run_model(obj_idx)"
      ],
      "metadata": {
        "colab": {
          "base_uri": "https://localhost:8080/"
        },
        "id": "f_JIADNWvSek",
        "outputId": "1ec4400d-3411-491b-dc99-189b09dace0f"
      },
      "execution_count": 66,
      "outputs": [
        {
          "output_type": "stream",
          "name": "stderr",
          "text": [
            "\r  0%|          | 0/3000 [00:00<?, ?it/s]"
          ]
        },
        {
          "output_type": "stream",
          "name": "stdout",
          "text": [
            "\n",
            "\n",
            "Step 0, loss_near_surface: 0.6701544523239136, loss_random: -1.0\n",
            "\n",
            "\n"
          ]
        },
        {
          "output_type": "stream",
          "name": "stderr",
          "text": [
            "  2%|▏         | 50/3000 [00:14<06:14,  7.88it/s]"
          ]
        },
        {
          "output_type": "stream",
          "name": "stdout",
          "text": [
            "\n",
            "\n",
            "Step 50, loss_near_surface: 0.22744402289390564, loss_random: 0.5561544895172119\n",
            "\n",
            "\n"
          ]
        },
        {
          "output_type": "stream",
          "name": "stderr",
          "text": [
            "  3%|▎         | 100/3000 [00:29<06:03,  7.98it/s]"
          ]
        },
        {
          "output_type": "stream",
          "name": "stdout",
          "text": [
            "\n",
            "\n",
            "Step 100, loss_near_surface: 0.10029760003089905, loss_random: 0.4051046371459961\n",
            "\n",
            "\n"
          ]
        },
        {
          "output_type": "stream",
          "name": "stderr",
          "text": [
            "  5%|▌         | 150/3000 [00:42<06:12,  7.65it/s]"
          ]
        },
        {
          "output_type": "stream",
          "name": "stdout",
          "text": [
            "\n",
            "\n",
            "Step 150, loss_near_surface: 0.062425851821899414, loss_random: 0.33080437779426575\n",
            "\n",
            "\n"
          ]
        },
        {
          "output_type": "stream",
          "name": "stderr",
          "text": [
            "  7%|▋         | 200/3000 [00:56<06:09,  7.57it/s]"
          ]
        },
        {
          "output_type": "stream",
          "name": "stdout",
          "text": [
            "\n",
            "\n",
            "Step 200, loss_near_surface: 0.04111669212579727, loss_random: 0.30951449275016785\n",
            "\n",
            "\n"
          ]
        },
        {
          "output_type": "stream",
          "name": "stderr",
          "text": [
            "  8%|▊         | 250/3000 [01:09<05:30,  8.32it/s]"
          ]
        },
        {
          "output_type": "stream",
          "name": "stdout",
          "text": [
            "\n",
            "\n",
            "Step 250, loss_near_surface: 0.03276526927947998, loss_random: 0.27930641174316406\n",
            "\n",
            "\n"
          ]
        },
        {
          "output_type": "stream",
          "name": "stderr",
          "text": [
            " 10%|█         | 300/3000 [01:23<05:56,  7.57it/s]"
          ]
        },
        {
          "output_type": "stream",
          "name": "stdout",
          "text": [
            "\n",
            "\n",
            "Step 300, loss_near_surface: 0.024423282593488693, loss_random: 0.27493879199028015\n",
            "\n",
            "\n"
          ]
        },
        {
          "output_type": "stream",
          "name": "stderr",
          "text": [
            " 12%|█▏        | 350/3000 [01:36<05:39,  7.81it/s]"
          ]
        },
        {
          "output_type": "stream",
          "name": "stdout",
          "text": [
            "\n",
            "\n",
            "Step 350, loss_near_surface: 0.023561622947454453, loss_random: 0.25027722120285034\n",
            "\n",
            "\n"
          ]
        },
        {
          "output_type": "stream",
          "name": "stderr",
          "text": [
            " 13%|█▎        | 400/3000 [01:50<05:29,  7.89it/s]"
          ]
        },
        {
          "output_type": "stream",
          "name": "stdout",
          "text": [
            "\n",
            "\n",
            "Step 400, loss_near_surface: 0.01877552457153797, loss_random: 0.24603471159934998\n",
            "\n",
            "\n"
          ]
        },
        {
          "output_type": "stream",
          "name": "stderr",
          "text": [
            " 15%|█▌        | 450/3000 [02:03<05:27,  7.79it/s]"
          ]
        },
        {
          "output_type": "stream",
          "name": "stdout",
          "text": [
            "\n",
            "\n",
            "Step 450, loss_near_surface: 0.01742953062057495, loss_random: 0.2349599152803421\n",
            "\n",
            "\n"
          ]
        },
        {
          "output_type": "stream",
          "name": "stderr",
          "text": [
            " 17%|█▋        | 500/3000 [02:17<05:23,  7.73it/s]"
          ]
        },
        {
          "output_type": "stream",
          "name": "stdout",
          "text": [
            "\n",
            "\n",
            "Step 500, loss_near_surface: 0.016082433983683586, loss_random: 0.2304520606994629\n",
            "\n",
            "\n"
          ]
        },
        {
          "output_type": "stream",
          "name": "stderr",
          "text": [
            " 18%|█▊        | 550/3000 [02:31<05:18,  7.69it/s]"
          ]
        },
        {
          "output_type": "stream",
          "name": "stdout",
          "text": [
            "\n",
            "\n",
            "Step 550, loss_near_surface: 0.014543313533067703, loss_random: 0.2247057855129242\n",
            "\n",
            "\n"
          ]
        },
        {
          "output_type": "stream",
          "name": "stderr",
          "text": [
            " 20%|██        | 600/3000 [02:45<05:03,  7.92it/s]"
          ]
        },
        {
          "output_type": "stream",
          "name": "stdout",
          "text": [
            "\n",
            "\n",
            "Step 600, loss_near_surface: 0.013580161146819592, loss_random: 0.21097075939178467\n",
            "\n",
            "\n"
          ]
        },
        {
          "output_type": "stream",
          "name": "stderr",
          "text": [
            " 22%|██▏       | 650/3000 [02:58<04:51,  8.06it/s]"
          ]
        },
        {
          "output_type": "stream",
          "name": "stdout",
          "text": [
            "\n",
            "\n",
            "Step 650, loss_near_surface: 0.01315483171492815, loss_random: 0.21869789063930511\n",
            "\n",
            "\n"
          ]
        },
        {
          "output_type": "stream",
          "name": "stderr",
          "text": [
            " 23%|██▎       | 700/3000 [03:12<04:52,  7.87it/s]"
          ]
        },
        {
          "output_type": "stream",
          "name": "stdout",
          "text": [
            "\n",
            "\n",
            "Step 700, loss_near_surface: 0.012556239031255245, loss_random: 0.19935710728168488\n",
            "\n",
            "\n"
          ]
        },
        {
          "output_type": "stream",
          "name": "stderr",
          "text": [
            " 25%|██▌       | 750/3000 [03:25<04:54,  7.64it/s]"
          ]
        },
        {
          "output_type": "stream",
          "name": "stdout",
          "text": [
            "\n",
            "\n",
            "Step 750, loss_near_surface: 0.011386364698410034, loss_random: 0.2014332115650177\n",
            "\n",
            "\n"
          ]
        },
        {
          "output_type": "stream",
          "name": "stderr",
          "text": [
            " 27%|██▋       | 800/3000 [03:39<04:38,  7.89it/s]"
          ]
        },
        {
          "output_type": "stream",
          "name": "stdout",
          "text": [
            "\n",
            "\n",
            "Step 800, loss_near_surface: 0.010870207101106644, loss_random: 0.18451260030269623\n",
            "\n",
            "\n"
          ]
        },
        {
          "output_type": "stream",
          "name": "stderr",
          "text": [
            " 28%|██▊       | 850/3000 [03:53<04:40,  7.66it/s]"
          ]
        },
        {
          "output_type": "stream",
          "name": "stdout",
          "text": [
            "\n",
            "\n",
            "Step 850, loss_near_surface: 0.011249533854424953, loss_random: 0.19220119714736938\n",
            "\n",
            "\n"
          ]
        },
        {
          "output_type": "stream",
          "name": "stderr",
          "text": [
            " 30%|███       | 900/3000 [04:06<04:24,  7.94it/s]"
          ]
        },
        {
          "output_type": "stream",
          "name": "stdout",
          "text": [
            "\n",
            "\n",
            "Step 900, loss_near_surface: 0.010458356700837612, loss_random: 0.1759852021932602\n",
            "\n",
            "\n"
          ]
        },
        {
          "output_type": "stream",
          "name": "stderr",
          "text": [
            " 32%|███▏      | 950/3000 [04:20<04:14,  8.07it/s]"
          ]
        },
        {
          "output_type": "stream",
          "name": "stdout",
          "text": [
            "\n",
            "\n",
            "Step 950, loss_near_surface: 0.010671332478523254, loss_random: 0.18507546186447144\n",
            "\n",
            "\n"
          ]
        },
        {
          "output_type": "stream",
          "name": "stderr",
          "text": [
            " 33%|███▎      | 1000/3000 [04:34<04:12,  7.94it/s]"
          ]
        },
        {
          "output_type": "stream",
          "name": "stdout",
          "text": [
            "\n",
            "\n",
            "Step 1000, loss_near_surface: 0.009589671157300472, loss_random: 0.17658884823322296\n",
            "\n",
            "\n"
          ]
        },
        {
          "output_type": "stream",
          "name": "stderr",
          "text": [
            " 35%|███▌      | 1050/3000 [04:47<04:14,  7.65it/s]"
          ]
        },
        {
          "output_type": "stream",
          "name": "stdout",
          "text": [
            "\n",
            "\n",
            "Step 1050, loss_near_surface: 0.009885280393064022, loss_random: 0.180014967918396\n",
            "\n",
            "\n"
          ]
        },
        {
          "output_type": "stream",
          "name": "stderr",
          "text": [
            " 37%|███▋      | 1100/3000 [05:01<04:08,  7.63it/s]"
          ]
        },
        {
          "output_type": "stream",
          "name": "stdout",
          "text": [
            "\n",
            "\n",
            "Step 1100, loss_near_surface: 0.009830371476709843, loss_random: 0.1818700134754181\n",
            "\n",
            "\n"
          ]
        },
        {
          "output_type": "stream",
          "name": "stderr",
          "text": [
            " 38%|███▊      | 1150/3000 [05:15<03:58,  7.77it/s]"
          ]
        },
        {
          "output_type": "stream",
          "name": "stdout",
          "text": [
            "\n",
            "\n",
            "Step 1150, loss_near_surface: 0.01015947200357914, loss_random: 0.17871467769145966\n",
            "\n",
            "\n"
          ]
        },
        {
          "output_type": "stream",
          "name": "stderr",
          "text": [
            " 40%|████      | 1200/3000 [05:30<03:51,  7.77it/s]"
          ]
        },
        {
          "output_type": "stream",
          "name": "stdout",
          "text": [
            "\n",
            "\n",
            "Step 1200, loss_near_surface: 0.009975094348192215, loss_random: 0.18069419264793396\n",
            "\n",
            "\n"
          ]
        },
        {
          "output_type": "stream",
          "name": "stderr",
          "text": [
            " 42%|████▏     | 1250/3000 [05:44<03:35,  8.12it/s]"
          ]
        },
        {
          "output_type": "stream",
          "name": "stdout",
          "text": [
            "\n",
            "\n",
            "Step 1250, loss_near_surface: 0.009721759706735611, loss_random: 0.17056921124458313\n",
            "\n",
            "\n"
          ]
        },
        {
          "output_type": "stream",
          "name": "stderr",
          "text": [
            " 43%|████▎     | 1300/3000 [05:57<03:39,  7.76it/s]"
          ]
        },
        {
          "output_type": "stream",
          "name": "stdout",
          "text": [
            "\n",
            "\n",
            "Step 1300, loss_near_surface: 0.009567729197442532, loss_random: 0.1697930097579956\n",
            "\n",
            "\n"
          ]
        },
        {
          "output_type": "stream",
          "name": "stderr",
          "text": [
            " 45%|████▌     | 1350/3000 [06:11<03:35,  7.64it/s]"
          ]
        },
        {
          "output_type": "stream",
          "name": "stdout",
          "text": [
            "\n",
            "\n",
            "Step 1350, loss_near_surface: 0.00903219822794199, loss_random: 0.1672869622707367\n",
            "\n",
            "\n"
          ]
        },
        {
          "output_type": "stream",
          "name": "stderr",
          "text": [
            " 47%|████▋     | 1400/3000 [06:25<03:25,  7.78it/s]"
          ]
        },
        {
          "output_type": "stream",
          "name": "stdout",
          "text": [
            "\n",
            "\n",
            "Step 1400, loss_near_surface: 0.008729301393032074, loss_random: 0.17097826302051544\n",
            "\n",
            "\n"
          ]
        },
        {
          "output_type": "stream",
          "name": "stderr",
          "text": [
            " 48%|████▊     | 1450/3000 [06:39<03:16,  7.87it/s]"
          ]
        },
        {
          "output_type": "stream",
          "name": "stdout",
          "text": [
            "\n",
            "\n",
            "Step 1450, loss_near_surface: 0.00880376622080803, loss_random: 0.16700498759746552\n",
            "\n",
            "\n"
          ]
        },
        {
          "output_type": "stream",
          "name": "stderr",
          "text": [
            " 50%|█████     | 1500/3000 [06:52<03:26,  7.26it/s]"
          ]
        },
        {
          "output_type": "stream",
          "name": "stdout",
          "text": [
            "\n",
            "\n",
            "Step 1500, loss_near_surface: 0.008543750271201134, loss_random: 0.16428053379058838\n",
            "\n",
            "\n"
          ]
        },
        {
          "output_type": "stream",
          "name": "stderr",
          "text": [
            " 52%|█████▏    | 1550/3000 [07:06<03:00,  8.05it/s]"
          ]
        },
        {
          "output_type": "stream",
          "name": "stdout",
          "text": [
            "\n",
            "\n",
            "Step 1550, loss_near_surface: 0.009311922825872898, loss_random: 0.16293573379516602\n",
            "\n",
            "\n"
          ]
        },
        {
          "output_type": "stream",
          "name": "stderr",
          "text": [
            " 53%|█████▎    | 1600/3000 [07:20<03:07,  7.45it/s]"
          ]
        },
        {
          "output_type": "stream",
          "name": "stdout",
          "text": [
            "\n",
            "\n",
            "Step 1600, loss_near_surface: 0.008598623797297478, loss_random: 0.16399317979812622\n",
            "\n",
            "\n"
          ]
        },
        {
          "output_type": "stream",
          "name": "stderr",
          "text": [
            " 55%|█████▌    | 1650/3000 [07:34<02:53,  7.78it/s]"
          ]
        },
        {
          "output_type": "stream",
          "name": "stdout",
          "text": [
            "\n",
            "\n",
            "Step 1650, loss_near_surface: 0.008533447049558163, loss_random: 0.16504071652889252\n",
            "\n",
            "\n"
          ]
        },
        {
          "output_type": "stream",
          "name": "stderr",
          "text": [
            " 57%|█████▋    | 1700/3000 [07:47<02:44,  7.88it/s]"
          ]
        },
        {
          "output_type": "stream",
          "name": "stdout",
          "text": [
            "\n",
            "\n",
            "Step 1700, loss_near_surface: 0.008600651286542416, loss_random: 0.15938407182693481\n",
            "\n",
            "\n"
          ]
        },
        {
          "output_type": "stream",
          "name": "stderr",
          "text": [
            " 58%|█████▊    | 1750/3000 [08:01<02:41,  7.75it/s]"
          ]
        },
        {
          "output_type": "stream",
          "name": "stdout",
          "text": [
            "\n",
            "\n",
            "Step 1750, loss_near_surface: 0.008889347314834595, loss_random: 0.1567533016204834\n",
            "\n",
            "\n"
          ]
        },
        {
          "output_type": "stream",
          "name": "stderr",
          "text": [
            " 60%|██████    | 1800/3000 [08:14<02:31,  7.93it/s]"
          ]
        },
        {
          "output_type": "stream",
          "name": "stdout",
          "text": [
            "\n",
            "\n",
            "Step 1800, loss_near_surface: 0.008194595575332642, loss_random: 0.15751579403877258\n",
            "\n",
            "\n"
          ]
        },
        {
          "output_type": "stream",
          "name": "stderr",
          "text": [
            " 62%|██████▏   | 1850/3000 [08:28<02:23,  8.03it/s]"
          ]
        },
        {
          "output_type": "stream",
          "name": "stdout",
          "text": [
            "\n",
            "\n",
            "Step 1850, loss_near_surface: 0.008259058929979801, loss_random: 0.1571471393108368\n",
            "\n",
            "\n"
          ]
        },
        {
          "output_type": "stream",
          "name": "stderr",
          "text": [
            " 63%|██████▎   | 1900/3000 [08:41<02:06,  8.69it/s]"
          ]
        },
        {
          "output_type": "stream",
          "name": "stdout",
          "text": [
            "\n",
            "\n",
            "Step 1900, loss_near_surface: 0.008163947612047195, loss_random: 0.16009721159934998\n",
            "\n",
            "\n"
          ]
        },
        {
          "output_type": "stream",
          "name": "stderr",
          "text": [
            " 65%|██████▌   | 1950/3000 [08:55<02:14,  7.82it/s]"
          ]
        },
        {
          "output_type": "stream",
          "name": "stdout",
          "text": [
            "\n",
            "\n",
            "Step 1950, loss_near_surface: 0.00813483726233244, loss_random: 0.15156036615371704\n",
            "\n",
            "\n"
          ]
        },
        {
          "output_type": "stream",
          "name": "stderr",
          "text": [
            " 67%|██████▋   | 2000/3000 [09:09<02:08,  7.81it/s]"
          ]
        },
        {
          "output_type": "stream",
          "name": "stdout",
          "text": [
            "\n",
            "\n",
            "Step 2000, loss_near_surface: 0.007912399247288704, loss_random: 0.15619632601737976\n",
            "\n",
            "\n"
          ]
        },
        {
          "output_type": "stream",
          "name": "stderr",
          "text": [
            " 68%|██████▊   | 2050/3000 [09:23<01:54,  8.26it/s]"
          ]
        },
        {
          "output_type": "stream",
          "name": "stdout",
          "text": [
            "\n",
            "\n",
            "Step 2050, loss_near_surface: 0.008418242447078228, loss_random: 0.151799738407135\n",
            "\n",
            "\n"
          ]
        },
        {
          "output_type": "stream",
          "name": "stderr",
          "text": [
            " 70%|███████   | 2100/3000 [09:36<01:54,  7.86it/s]"
          ]
        },
        {
          "output_type": "stream",
          "name": "stdout",
          "text": [
            "\n",
            "\n",
            "Step 2100, loss_near_surface: 0.008331362158060074, loss_random: 0.15212500095367432\n",
            "\n",
            "\n"
          ]
        },
        {
          "output_type": "stream",
          "name": "stderr",
          "text": [
            " 72%|███████▏  | 2150/3000 [09:50<01:47,  7.87it/s]"
          ]
        },
        {
          "output_type": "stream",
          "name": "stdout",
          "text": [
            "\n",
            "\n",
            "Step 2150, loss_near_surface: 0.008548935875296593, loss_random: 0.15143436193466187\n",
            "\n",
            "\n"
          ]
        },
        {
          "output_type": "stream",
          "name": "stderr",
          "text": [
            " 73%|███████▎  | 2200/3000 [10:04<01:46,  7.53it/s]"
          ]
        },
        {
          "output_type": "stream",
          "name": "stdout",
          "text": [
            "\n",
            "\n",
            "Step 2200, loss_near_surface: 0.007697056978940964, loss_random: 0.15441910922527313\n",
            "\n",
            "\n"
          ]
        },
        {
          "output_type": "stream",
          "name": "stderr",
          "text": [
            " 75%|███████▌  | 2250/3000 [10:19<01:40,  7.49it/s]"
          ]
        },
        {
          "output_type": "stream",
          "name": "stdout",
          "text": [
            "\n",
            "\n",
            "Step 2250, loss_near_surface: 0.007988419383764267, loss_random: 0.15057875216007233\n",
            "\n",
            "\n"
          ]
        },
        {
          "output_type": "stream",
          "name": "stderr",
          "text": [
            " 77%|███████▋  | 2300/3000 [10:33<01:26,  8.05it/s]"
          ]
        },
        {
          "output_type": "stream",
          "name": "stdout",
          "text": [
            "\n",
            "\n",
            "Step 2300, loss_near_surface: 0.0077134971506893635, loss_random: 0.1508946418762207\n",
            "\n",
            "\n"
          ]
        },
        {
          "output_type": "stream",
          "name": "stderr",
          "text": [
            " 78%|███████▊  | 2350/3000 [10:47<01:24,  7.72it/s]"
          ]
        },
        {
          "output_type": "stream",
          "name": "stdout",
          "text": [
            "\n",
            "\n",
            "Step 2350, loss_near_surface: 0.008037924766540527, loss_random: 0.1517358422279358\n",
            "\n",
            "\n"
          ]
        },
        {
          "output_type": "stream",
          "name": "stderr",
          "text": [
            " 80%|████████  | 2400/3000 [11:00<01:14,  8.03it/s]"
          ]
        },
        {
          "output_type": "stream",
          "name": "stdout",
          "text": [
            "\n",
            "\n",
            "Step 2400, loss_near_surface: 0.007796245161443949, loss_random: 0.14765383303165436\n",
            "\n",
            "\n"
          ]
        },
        {
          "output_type": "stream",
          "name": "stderr",
          "text": [
            " 82%|████████▏ | 2450/3000 [11:14<01:10,  7.78it/s]"
          ]
        },
        {
          "output_type": "stream",
          "name": "stdout",
          "text": [
            "\n",
            "\n",
            "Step 2450, loss_near_surface: 0.00806665699928999, loss_random: 0.15294519066810608\n",
            "\n",
            "\n"
          ]
        },
        {
          "output_type": "stream",
          "name": "stderr",
          "text": [
            " 83%|████████▎ | 2500/3000 [11:28<01:03,  7.91it/s]"
          ]
        },
        {
          "output_type": "stream",
          "name": "stdout",
          "text": [
            "\n",
            "\n",
            "Step 2500, loss_near_surface: 0.008223624899983406, loss_random: 0.14895625412464142\n",
            "\n",
            "\n"
          ]
        },
        {
          "output_type": "stream",
          "name": "stderr",
          "text": [
            " 85%|████████▌ | 2550/3000 [11:42<00:56,  7.96it/s]"
          ]
        },
        {
          "output_type": "stream",
          "name": "stdout",
          "text": [
            "\n",
            "\n",
            "Step 2550, loss_near_surface: 0.007688279263675213, loss_random: 0.1478791981935501\n",
            "\n",
            "\n"
          ]
        },
        {
          "output_type": "stream",
          "name": "stderr",
          "text": [
            " 87%|████████▋ | 2600/3000 [11:55<00:51,  7.79it/s]"
          ]
        },
        {
          "output_type": "stream",
          "name": "stdout",
          "text": [
            "\n",
            "\n",
            "Step 2600, loss_near_surface: 0.008172194473445415, loss_random: 0.14846479892730713\n",
            "\n",
            "\n"
          ]
        },
        {
          "output_type": "stream",
          "name": "stderr",
          "text": [
            " 88%|████████▊ | 2650/3000 [12:09<00:44,  7.92it/s]"
          ]
        },
        {
          "output_type": "stream",
          "name": "stdout",
          "text": [
            "\n",
            "\n",
            "Step 2650, loss_near_surface: 0.007648224011063576, loss_random: 0.15044884383678436\n",
            "\n",
            "\n"
          ]
        },
        {
          "output_type": "stream",
          "name": "stderr",
          "text": [
            " 90%|█████████ | 2700/3000 [12:23<00:38,  7.86it/s]"
          ]
        },
        {
          "output_type": "stream",
          "name": "stdout",
          "text": [
            "\n",
            "\n",
            "Step 2700, loss_near_surface: 0.008124183863401413, loss_random: 0.14863558113574982\n",
            "\n",
            "\n"
          ]
        },
        {
          "output_type": "stream",
          "name": "stderr",
          "text": [
            " 92%|█████████▏| 2750/3000 [12:37<00:31,  8.02it/s]"
          ]
        },
        {
          "output_type": "stream",
          "name": "stdout",
          "text": [
            "\n",
            "\n",
            "Step 2750, loss_near_surface: 0.00820045918226242, loss_random: 0.1478608399629593\n",
            "\n",
            "\n"
          ]
        },
        {
          "output_type": "stream",
          "name": "stderr",
          "text": [
            " 93%|█████████▎| 2800/3000 [12:50<00:23,  8.49it/s]"
          ]
        },
        {
          "output_type": "stream",
          "name": "stdout",
          "text": [
            "\n",
            "\n",
            "Step 2800, loss_near_surface: 0.007994512096047401, loss_random: 0.14683304727077484\n",
            "\n",
            "\n"
          ]
        },
        {
          "output_type": "stream",
          "name": "stderr",
          "text": [
            " 95%|█████████▌| 2850/3000 [13:04<00:18,  8.10it/s]"
          ]
        },
        {
          "output_type": "stream",
          "name": "stdout",
          "text": [
            "\n",
            "\n",
            "Step 2850, loss_near_surface: 0.008139805868268013, loss_random: 0.1508185863494873\n",
            "\n",
            "\n"
          ]
        },
        {
          "output_type": "stream",
          "name": "stderr",
          "text": [
            " 97%|█████████▋| 2900/3000 [13:17<00:13,  7.67it/s]"
          ]
        },
        {
          "output_type": "stream",
          "name": "stdout",
          "text": [
            "\n",
            "\n",
            "Step 2900, loss_near_surface: 0.00794959906488657, loss_random: 0.147847518324852\n",
            "\n",
            "\n"
          ]
        },
        {
          "output_type": "stream",
          "name": "stderr",
          "text": [
            " 98%|█████████▊| 2950/3000 [13:31<00:06,  7.81it/s]"
          ]
        },
        {
          "output_type": "stream",
          "name": "stdout",
          "text": [
            "\n",
            "\n",
            "Step 2950, loss_near_surface: 0.008034972473978996, loss_random: 0.13921386003494263\n",
            "\n",
            "\n"
          ]
        },
        {
          "output_type": "stream",
          "name": "stderr",
          "text": [
            "100%|██████████| 3000/3000 [13:45<00:00,  3.63it/s]"
          ]
        },
        {
          "output_type": "stream",
          "name": "stdout",
          "text": [
            "\n",
            "\n",
            "Step 3000, loss_near_surface: 0.007756825536489487, loss_random: 0.14905709028244019\n",
            "\n",
            "\n",
            "Avg time in seconds: 0.2735681664148967\n",
            "Memory usage in Kb: 912.0009765625\n"
          ]
        },
        {
          "output_type": "stream",
          "name": "stderr",
          "text": [
            "\n"
          ]
        }
      ]
    },
    {
      "cell_type": "code",
      "source": [
        "obj_idx = 4\n",
        "models_metrics[f'obj_{obj_idx}'] = run_model(obj_idx)"
      ],
      "metadata": {
        "colab": {
          "base_uri": "https://localhost:8080/"
        },
        "id": "hPMr3BrgvTE2",
        "outputId": "d755fb07-2306-4c31-ae2d-5d70eac5eacf"
      },
      "execution_count": 67,
      "outputs": [
        {
          "output_type": "stream",
          "name": "stderr",
          "text": [
            "\r  0%|          | 0/3000 [00:00<?, ?it/s]"
          ]
        },
        {
          "output_type": "stream",
          "name": "stdout",
          "text": [
            "\n",
            "\n",
            "Step 0, loss_near_surface: 1.07588529586792, loss_random: -1.0\n",
            "\n",
            "\n"
          ]
        },
        {
          "output_type": "stream",
          "name": "stderr",
          "text": [
            "  2%|▏         | 49/3000 [00:06<03:42, 13.27it/s]"
          ]
        },
        {
          "output_type": "stream",
          "name": "stdout",
          "text": [
            "\n",
            "\n",
            "Step 50, loss_near_surface: 0.4563441574573517, loss_random: 0.582192063331604\n",
            "\n",
            "\n"
          ]
        },
        {
          "output_type": "stream",
          "name": "stderr",
          "text": [
            "  3%|▎         | 99/3000 [00:12<03:35, 13.44it/s]"
          ]
        },
        {
          "output_type": "stream",
          "name": "stdout",
          "text": [
            "\n",
            "\n",
            "Step 100, loss_near_surface: 0.1973775327205658, loss_random: 0.34840816259384155\n",
            "\n",
            "\n"
          ]
        },
        {
          "output_type": "stream",
          "name": "stderr",
          "text": [
            "  5%|▍         | 149/3000 [00:19<03:34, 13.27it/s]"
          ]
        },
        {
          "output_type": "stream",
          "name": "stdout",
          "text": [
            "\n",
            "\n",
            "Step 150, loss_near_surface: 0.13073192536830902, loss_random: 0.2600850462913513\n",
            "\n",
            "\n"
          ]
        },
        {
          "output_type": "stream",
          "name": "stderr",
          "text": [
            "  7%|▋         | 199/3000 [00:25<03:27, 13.48it/s]"
          ]
        },
        {
          "output_type": "stream",
          "name": "stdout",
          "text": [
            "\n",
            "\n",
            "Step 200, loss_near_surface: 0.09003116935491562, loss_random: 0.2127581387758255\n",
            "\n",
            "\n"
          ]
        },
        {
          "output_type": "stream",
          "name": "stderr",
          "text": [
            "  8%|▊         | 249/3000 [00:31<03:24, 13.48it/s]"
          ]
        },
        {
          "output_type": "stream",
          "name": "stdout",
          "text": [
            "\n",
            "\n",
            "Step 250, loss_near_surface: 0.06453007459640503, loss_random: 0.17175421118736267\n",
            "\n",
            "\n"
          ]
        },
        {
          "output_type": "stream",
          "name": "stderr",
          "text": [
            " 10%|▉         | 299/3000 [00:37<03:21, 13.41it/s]"
          ]
        },
        {
          "output_type": "stream",
          "name": "stdout",
          "text": [
            "\n",
            "\n",
            "Step 300, loss_near_surface: 0.053281497210264206, loss_random: 0.15373346209526062\n",
            "\n",
            "\n"
          ]
        },
        {
          "output_type": "stream",
          "name": "stderr",
          "text": [
            " 12%|█▏        | 349/3000 [00:43<03:19, 13.26it/s]"
          ]
        },
        {
          "output_type": "stream",
          "name": "stdout",
          "text": [
            "\n",
            "\n",
            "Step 350, loss_near_surface: 0.04541884362697601, loss_random: 0.14152196049690247\n",
            "\n",
            "\n"
          ]
        },
        {
          "output_type": "stream",
          "name": "stderr",
          "text": [
            " 13%|█▎        | 399/3000 [00:49<03:12, 13.51it/s]"
          ]
        },
        {
          "output_type": "stream",
          "name": "stdout",
          "text": [
            "\n",
            "\n",
            "Step 400, loss_near_surface: 0.03473016619682312, loss_random: 0.12934088706970215\n",
            "\n",
            "\n"
          ]
        },
        {
          "output_type": "stream",
          "name": "stderr",
          "text": [
            " 15%|█▍        | 449/3000 [00:55<03:09, 13.44it/s]"
          ]
        },
        {
          "output_type": "stream",
          "name": "stdout",
          "text": [
            "\n",
            "\n",
            "Step 450, loss_near_surface: 0.03005285933613777, loss_random: 0.11447224020957947\n",
            "\n",
            "\n"
          ]
        },
        {
          "output_type": "stream",
          "name": "stderr",
          "text": [
            " 17%|█▋        | 499/3000 [01:02<03:06, 13.39it/s]"
          ]
        },
        {
          "output_type": "stream",
          "name": "stdout",
          "text": [
            "\n",
            "\n",
            "Step 500, loss_near_surface: 0.027050837874412537, loss_random: 0.11293309926986694\n",
            "\n",
            "\n"
          ]
        },
        {
          "output_type": "stream",
          "name": "stderr",
          "text": [
            " 18%|█▊        | 549/3000 [01:08<03:10, 12.86it/s]"
          ]
        },
        {
          "output_type": "stream",
          "name": "stdout",
          "text": [
            "\n",
            "\n",
            "Step 550, loss_near_surface: 0.022231586277484894, loss_random: 0.09971629083156586\n",
            "\n",
            "\n"
          ]
        },
        {
          "output_type": "stream",
          "name": "stderr",
          "text": [
            " 20%|██        | 600/3000 [01:16<02:58, 13.41it/s]"
          ]
        },
        {
          "output_type": "stream",
          "name": "stdout",
          "text": [
            "\n",
            "\n",
            "Step 600, loss_near_surface: 0.019651351496577263, loss_random: 0.09752704948186874\n",
            "\n",
            "\n"
          ]
        },
        {
          "output_type": "stream",
          "name": "stderr",
          "text": [
            " 22%|██▏       | 650/3000 [01:22<02:58, 13.18it/s]"
          ]
        },
        {
          "output_type": "stream",
          "name": "stdout",
          "text": [
            "\n",
            "\n",
            "Step 650, loss_near_surface: 0.018505889922380447, loss_random: 0.09377506375312805\n",
            "\n",
            "\n"
          ]
        },
        {
          "output_type": "stream",
          "name": "stderr",
          "text": [
            " 23%|██▎       | 700/3000 [01:28<02:52, 13.36it/s]"
          ]
        },
        {
          "output_type": "stream",
          "name": "stdout",
          "text": [
            "\n",
            "\n",
            "Step 700, loss_near_surface: 0.017563853412866592, loss_random: 0.08853189647197723\n",
            "\n",
            "\n"
          ]
        },
        {
          "output_type": "stream",
          "name": "stderr",
          "text": [
            " 25%|██▌       | 750/3000 [01:34<02:51, 13.08it/s]"
          ]
        },
        {
          "output_type": "stream",
          "name": "stdout",
          "text": [
            "\n",
            "\n",
            "Step 750, loss_near_surface: 0.015763625502586365, loss_random: 0.08746081590652466\n",
            "\n",
            "\n"
          ]
        },
        {
          "output_type": "stream",
          "name": "stderr",
          "text": [
            " 27%|██▋       | 800/3000 [01:41<03:00, 12.19it/s]"
          ]
        },
        {
          "output_type": "stream",
          "name": "stdout",
          "text": [
            "\n",
            "\n",
            "Step 800, loss_near_surface: 0.014698110520839691, loss_random: 0.08518966287374496\n",
            "\n",
            "\n"
          ]
        },
        {
          "output_type": "stream",
          "name": "stderr",
          "text": [
            " 28%|██▊       | 850/3000 [01:47<02:40, 13.36it/s]"
          ]
        },
        {
          "output_type": "stream",
          "name": "stdout",
          "text": [
            "\n",
            "\n",
            "Step 850, loss_near_surface: 0.013929419219493866, loss_random: 0.08016303181648254\n",
            "\n",
            "\n"
          ]
        },
        {
          "output_type": "stream",
          "name": "stderr",
          "text": [
            " 30%|███       | 900/3000 [01:53<02:37, 13.34it/s]"
          ]
        },
        {
          "output_type": "stream",
          "name": "stdout",
          "text": [
            "\n",
            "\n",
            "Step 900, loss_near_surface: 0.013298870995640755, loss_random: 0.08231645822525024\n",
            "\n",
            "\n"
          ]
        },
        {
          "output_type": "stream",
          "name": "stderr",
          "text": [
            " 32%|███▏      | 950/3000 [01:59<02:31, 13.50it/s]"
          ]
        },
        {
          "output_type": "stream",
          "name": "stdout",
          "text": [
            "\n",
            "\n",
            "Step 950, loss_near_surface: 0.011489218100905418, loss_random: 0.07725034654140472\n",
            "\n",
            "\n"
          ]
        },
        {
          "output_type": "stream",
          "name": "stderr",
          "text": [
            " 33%|███▎      | 1000/3000 [02:05<02:29, 13.37it/s]"
          ]
        },
        {
          "output_type": "stream",
          "name": "stdout",
          "text": [
            "\n",
            "\n",
            "Step 1000, loss_near_surface: 0.01124411728233099, loss_random: 0.07185940444469452\n",
            "\n",
            "\n"
          ]
        },
        {
          "output_type": "stream",
          "name": "stderr",
          "text": [
            " 35%|███▌      | 1050/3000 [02:12<02:29, 13.00it/s]"
          ]
        },
        {
          "output_type": "stream",
          "name": "stdout",
          "text": [
            "\n",
            "\n",
            "Step 1050, loss_near_surface: 0.0103345001116395, loss_random: 0.07312910258769989\n",
            "\n",
            "\n"
          ]
        },
        {
          "output_type": "stream",
          "name": "stderr",
          "text": [
            " 37%|███▋      | 1100/3000 [02:18<02:22, 13.33it/s]"
          ]
        },
        {
          "output_type": "stream",
          "name": "stdout",
          "text": [
            "\n",
            "\n",
            "Step 1100, loss_near_surface: 0.010373438708484173, loss_random: 0.06929115206003189\n",
            "\n",
            "\n"
          ]
        },
        {
          "output_type": "stream",
          "name": "stderr",
          "text": [
            " 38%|███▊      | 1150/3000 [02:24<02:19, 13.29it/s]"
          ]
        },
        {
          "output_type": "stream",
          "name": "stdout",
          "text": [
            "\n",
            "\n",
            "Step 1150, loss_near_surface: 0.00999887753278017, loss_random: 0.07155688107013702\n",
            "\n",
            "\n"
          ]
        },
        {
          "output_type": "stream",
          "name": "stderr",
          "text": [
            " 40%|████      | 1200/3000 [02:31<02:09, 13.85it/s]"
          ]
        },
        {
          "output_type": "stream",
          "name": "stdout",
          "text": [
            "\n",
            "\n",
            "Step 1200, loss_near_surface: 0.009058271534740925, loss_random: 0.0661567896604538\n",
            "\n",
            "\n"
          ]
        },
        {
          "output_type": "stream",
          "name": "stderr",
          "text": [
            " 42%|████▏     | 1250/3000 [02:37<02:09, 13.46it/s]"
          ]
        },
        {
          "output_type": "stream",
          "name": "stdout",
          "text": [
            "\n",
            "\n",
            "Step 1250, loss_near_surface: 0.008946702815592289, loss_random: 0.06674829125404358\n",
            "\n",
            "\n"
          ]
        },
        {
          "output_type": "stream",
          "name": "stderr",
          "text": [
            " 43%|████▎     | 1300/3000 [02:43<02:08, 13.23it/s]"
          ]
        },
        {
          "output_type": "stream",
          "name": "stdout",
          "text": [
            "\n",
            "\n",
            "Step 1300, loss_near_surface: 0.008744053542613983, loss_random: 0.06554993242025375\n",
            "\n",
            "\n"
          ]
        },
        {
          "output_type": "stream",
          "name": "stderr",
          "text": [
            " 45%|████▌     | 1350/3000 [02:49<02:02, 13.48it/s]"
          ]
        },
        {
          "output_type": "stream",
          "name": "stdout",
          "text": [
            "\n",
            "\n",
            "Step 1350, loss_near_surface: 0.007901170291006565, loss_random: 0.06730011105537415\n",
            "\n",
            "\n"
          ]
        },
        {
          "output_type": "stream",
          "name": "stderr",
          "text": [
            " 47%|████▋     | 1400/3000 [02:56<02:01, 13.16it/s]"
          ]
        },
        {
          "output_type": "stream",
          "name": "stdout",
          "text": [
            "\n",
            "\n",
            "Step 1400, loss_near_surface: 0.0077105178497731686, loss_random: 0.06580924987792969\n",
            "\n",
            "\n"
          ]
        },
        {
          "output_type": "stream",
          "name": "stderr",
          "text": [
            " 48%|████▊     | 1450/3000 [03:02<01:55, 13.42it/s]"
          ]
        },
        {
          "output_type": "stream",
          "name": "stdout",
          "text": [
            "\n",
            "\n",
            "Step 1450, loss_near_surface: 0.00792355090379715, loss_random: 0.061726320534944534\n",
            "\n",
            "\n"
          ]
        },
        {
          "output_type": "stream",
          "name": "stderr",
          "text": [
            " 50%|█████     | 1500/3000 [03:08<01:54, 13.07it/s]"
          ]
        },
        {
          "output_type": "stream",
          "name": "stdout",
          "text": [
            "\n",
            "\n",
            "Step 1500, loss_near_surface: 0.007189467083662748, loss_random: 0.06060934439301491\n",
            "\n",
            "\n"
          ]
        },
        {
          "output_type": "stream",
          "name": "stderr",
          "text": [
            " 52%|█████▏    | 1550/3000 [03:14<01:49, 13.26it/s]"
          ]
        },
        {
          "output_type": "stream",
          "name": "stdout",
          "text": [
            "\n",
            "\n",
            "Step 1550, loss_near_surface: 0.007064455188810825, loss_random: 0.06540833413600922\n",
            "\n",
            "\n"
          ]
        },
        {
          "output_type": "stream",
          "name": "stderr",
          "text": [
            " 53%|█████▎    | 1600/3000 [03:20<01:41, 13.76it/s]"
          ]
        },
        {
          "output_type": "stream",
          "name": "stdout",
          "text": [
            "\n",
            "\n",
            "Step 1600, loss_near_surface: 0.007104580290615559, loss_random: 0.06176087260246277\n",
            "\n",
            "\n"
          ]
        },
        {
          "output_type": "stream",
          "name": "stderr",
          "text": [
            " 55%|█████▌    | 1650/3000 [03:27<01:42, 13.21it/s]"
          ]
        },
        {
          "output_type": "stream",
          "name": "stdout",
          "text": [
            "\n",
            "\n",
            "Step 1650, loss_near_surface: 0.006338231265544891, loss_random: 0.0583585649728775\n",
            "\n",
            "\n"
          ]
        },
        {
          "output_type": "stream",
          "name": "stderr",
          "text": [
            " 57%|█████▋    | 1700/3000 [03:33<01:37, 13.37it/s]"
          ]
        },
        {
          "output_type": "stream",
          "name": "stdout",
          "text": [
            "\n",
            "\n",
            "Step 1700, loss_near_surface: 0.006667568348348141, loss_random: 0.06111137196421623\n",
            "\n",
            "\n"
          ]
        },
        {
          "output_type": "stream",
          "name": "stderr",
          "text": [
            " 58%|█████▊    | 1750/3000 [03:39<01:34, 13.24it/s]"
          ]
        },
        {
          "output_type": "stream",
          "name": "stdout",
          "text": [
            "\n",
            "\n",
            "Step 1750, loss_near_surface: 0.006687595508992672, loss_random: 0.061754800379276276\n",
            "\n",
            "\n"
          ]
        },
        {
          "output_type": "stream",
          "name": "stderr",
          "text": [
            " 60%|██████    | 1800/3000 [03:45<01:31, 13.13it/s]"
          ]
        },
        {
          "output_type": "stream",
          "name": "stdout",
          "text": [
            "\n",
            "\n",
            "Step 1800, loss_near_surface: 0.00648484006524086, loss_random: 0.06323746591806412\n",
            "\n",
            "\n"
          ]
        },
        {
          "output_type": "stream",
          "name": "stderr",
          "text": [
            " 62%|██████▏   | 1850/3000 [03:51<01:27, 13.09it/s]"
          ]
        },
        {
          "output_type": "stream",
          "name": "stdout",
          "text": [
            "\n",
            "\n",
            "Step 1850, loss_near_surface: 0.006052611395716667, loss_random: 0.06020697206258774\n",
            "\n",
            "\n"
          ]
        },
        {
          "output_type": "stream",
          "name": "stderr",
          "text": [
            " 63%|██████▎   | 1900/3000 [03:57<01:23, 13.23it/s]"
          ]
        },
        {
          "output_type": "stream",
          "name": "stdout",
          "text": [
            "\n",
            "\n",
            "Step 1900, loss_near_surface: 0.006006874144077301, loss_random: 0.05402512848377228\n",
            "\n",
            "\n"
          ]
        },
        {
          "output_type": "stream",
          "name": "stderr",
          "text": [
            " 65%|██████▌   | 1950/3000 [04:03<01:16, 13.71it/s]"
          ]
        },
        {
          "output_type": "stream",
          "name": "stdout",
          "text": [
            "\n",
            "\n",
            "Step 1950, loss_near_surface: 0.0058364709839224815, loss_random: 0.057320136576890945\n",
            "\n",
            "\n"
          ]
        },
        {
          "output_type": "stream",
          "name": "stderr",
          "text": [
            " 67%|██████▋   | 2000/3000 [04:09<01:16, 13.16it/s]"
          ]
        },
        {
          "output_type": "stream",
          "name": "stdout",
          "text": [
            "\n",
            "\n",
            "Step 2000, loss_near_surface: 0.005968278739601374, loss_random: 0.05736318975687027\n",
            "\n",
            "\n"
          ]
        },
        {
          "output_type": "stream",
          "name": "stderr",
          "text": [
            " 68%|██████▊   | 2050/3000 [04:15<01:12, 13.10it/s]"
          ]
        },
        {
          "output_type": "stream",
          "name": "stdout",
          "text": [
            "\n",
            "\n",
            "Step 2050, loss_near_surface: 0.005969074089080095, loss_random: 0.05647110193967819\n",
            "\n",
            "\n"
          ]
        },
        {
          "output_type": "stream",
          "name": "stderr",
          "text": [
            " 70%|███████   | 2100/3000 [04:22<01:05, 13.70it/s]"
          ]
        },
        {
          "output_type": "stream",
          "name": "stdout",
          "text": [
            "\n",
            "\n",
            "Step 2100, loss_near_surface: 0.005689634010195732, loss_random: 0.05641941726207733\n",
            "\n",
            "\n"
          ]
        },
        {
          "output_type": "stream",
          "name": "stderr",
          "text": [
            " 72%|███████▏  | 2150/3000 [04:28<01:00, 13.98it/s]"
          ]
        },
        {
          "output_type": "stream",
          "name": "stdout",
          "text": [
            "\n",
            "\n",
            "Step 2150, loss_near_surface: 0.00535112340003252, loss_random: 0.056993644684553146\n",
            "\n",
            "\n"
          ]
        },
        {
          "output_type": "stream",
          "name": "stderr",
          "text": [
            " 73%|███████▎  | 2200/3000 [04:34<00:59, 13.41it/s]"
          ]
        },
        {
          "output_type": "stream",
          "name": "stdout",
          "text": [
            "\n",
            "\n",
            "Step 2200, loss_near_surface: 0.005318381357938051, loss_random: 0.057557281106710434\n",
            "\n",
            "\n"
          ]
        },
        {
          "output_type": "stream",
          "name": "stderr",
          "text": [
            " 75%|███████▌  | 2250/3000 [04:40<00:55, 13.44it/s]"
          ]
        },
        {
          "output_type": "stream",
          "name": "stdout",
          "text": [
            "\n",
            "\n",
            "Step 2250, loss_near_surface: 0.00550473015755415, loss_random: 0.05704118311405182\n",
            "\n",
            "\n"
          ]
        },
        {
          "output_type": "stream",
          "name": "stderr",
          "text": [
            " 77%|███████▋  | 2300/3000 [04:47<00:55, 12.53it/s]"
          ]
        },
        {
          "output_type": "stream",
          "name": "stdout",
          "text": [
            "\n",
            "\n",
            "Step 2300, loss_near_surface: 0.005673645995557308, loss_random: 0.05484623834490776\n",
            "\n",
            "\n"
          ]
        },
        {
          "output_type": "stream",
          "name": "stderr",
          "text": [
            " 78%|███████▊  | 2350/3000 [04:53<00:49, 13.06it/s]"
          ]
        },
        {
          "output_type": "stream",
          "name": "stdout",
          "text": [
            "\n",
            "\n",
            "Step 2350, loss_near_surface: 0.005674503743648529, loss_random: 0.05347103253006935\n",
            "\n",
            "\n"
          ]
        },
        {
          "output_type": "stream",
          "name": "stderr",
          "text": [
            " 80%|████████  | 2400/3000 [04:59<00:44, 13.44it/s]"
          ]
        },
        {
          "output_type": "stream",
          "name": "stdout",
          "text": [
            "\n",
            "\n",
            "Step 2400, loss_near_surface: 0.0052923234179615974, loss_random: 0.05218551307916641\n",
            "\n",
            "\n"
          ]
        },
        {
          "output_type": "stream",
          "name": "stderr",
          "text": [
            " 82%|████████▏ | 2450/3000 [05:05<00:41, 13.20it/s]"
          ]
        },
        {
          "output_type": "stream",
          "name": "stdout",
          "text": [
            "\n",
            "\n",
            "Step 2450, loss_near_surface: 0.005327598191797733, loss_random: 0.05470110476016998\n",
            "\n",
            "\n"
          ]
        },
        {
          "output_type": "stream",
          "name": "stderr",
          "text": [
            " 83%|████████▎ | 2500/3000 [05:11<00:37, 13.41it/s]"
          ]
        },
        {
          "output_type": "stream",
          "name": "stdout",
          "text": [
            "\n",
            "\n",
            "Step 2500, loss_near_surface: 0.005417326465249062, loss_random: 0.055261917412281036\n",
            "\n",
            "\n"
          ]
        },
        {
          "output_type": "stream",
          "name": "stderr",
          "text": [
            " 85%|████████▌ | 2550/3000 [05:18<00:33, 13.50it/s]"
          ]
        },
        {
          "output_type": "stream",
          "name": "stdout",
          "text": [
            "\n",
            "\n",
            "Step 2550, loss_near_surface: 0.004953868221491575, loss_random: 0.0550772063434124\n",
            "\n",
            "\n"
          ]
        },
        {
          "output_type": "stream",
          "name": "stderr",
          "text": [
            " 87%|████████▋ | 2600/3000 [05:24<00:30, 13.19it/s]"
          ]
        },
        {
          "output_type": "stream",
          "name": "stdout",
          "text": [
            "\n",
            "\n",
            "Step 2600, loss_near_surface: 0.0049874684773385525, loss_random: 0.05347469076514244\n",
            "\n",
            "\n"
          ]
        },
        {
          "output_type": "stream",
          "name": "stderr",
          "text": [
            " 88%|████████▊ | 2650/3000 [05:30<00:26, 13.36it/s]"
          ]
        },
        {
          "output_type": "stream",
          "name": "stdout",
          "text": [
            "\n",
            "\n",
            "Step 2650, loss_near_surface: 0.0049992939457297325, loss_random: 0.05042790248990059\n",
            "\n",
            "\n"
          ]
        },
        {
          "output_type": "stream",
          "name": "stderr",
          "text": [
            " 90%|█████████ | 2700/3000 [05:36<00:22, 13.42it/s]"
          ]
        },
        {
          "output_type": "stream",
          "name": "stdout",
          "text": [
            "\n",
            "\n",
            "Step 2700, loss_near_surface: 0.00478218961507082, loss_random: 0.053947512060403824\n",
            "\n",
            "\n"
          ]
        },
        {
          "output_type": "stream",
          "name": "stderr",
          "text": [
            " 92%|█████████▏| 2750/3000 [05:42<00:18, 13.27it/s]"
          ]
        },
        {
          "output_type": "stream",
          "name": "stdout",
          "text": [
            "\n",
            "\n",
            "Step 2750, loss_near_surface: 0.004774182103574276, loss_random: 0.055088870227336884\n",
            "\n",
            "\n"
          ]
        },
        {
          "output_type": "stream",
          "name": "stderr",
          "text": [
            " 93%|█████████▎| 2800/3000 [05:48<00:14, 13.33it/s]"
          ]
        },
        {
          "output_type": "stream",
          "name": "stdout",
          "text": [
            "\n",
            "\n",
            "Step 2800, loss_near_surface: 0.0044947899878025055, loss_random: 0.05139939859509468\n",
            "\n",
            "\n"
          ]
        },
        {
          "output_type": "stream",
          "name": "stderr",
          "text": [
            " 95%|█████████▌| 2850/3000 [05:55<00:15,  9.89it/s]"
          ]
        },
        {
          "output_type": "stream",
          "name": "stdout",
          "text": [
            "\n",
            "\n",
            "Step 2850, loss_near_surface: 0.0048371413722634315, loss_random: 0.052970040589571\n",
            "\n",
            "\n"
          ]
        },
        {
          "output_type": "stream",
          "name": "stderr",
          "text": [
            " 97%|█████████▋| 2899/3000 [06:02<00:07, 13.27it/s]"
          ]
        },
        {
          "output_type": "stream",
          "name": "stdout",
          "text": [
            "\n",
            "\n",
            "Step 2900, loss_near_surface: 0.004689332097768784, loss_random: 0.05290650203824043\n",
            "\n",
            "\n"
          ]
        },
        {
          "output_type": "stream",
          "name": "stderr",
          "text": [
            " 98%|█████████▊| 2949/3000 [06:08<00:03, 13.33it/s]"
          ]
        },
        {
          "output_type": "stream",
          "name": "stdout",
          "text": [
            "\n",
            "\n",
            "Step 2950, loss_near_surface: 0.004601047839969397, loss_random: 0.05330970138311386\n",
            "\n",
            "\n"
          ]
        },
        {
          "output_type": "stream",
          "name": "stderr",
          "text": [
            "100%|██████████| 3000/3000 [06:14<00:00,  8.01it/s]"
          ]
        },
        {
          "output_type": "stream",
          "name": "stdout",
          "text": [
            "\n",
            "\n",
            "Step 3000, loss_near_surface: 0.0047919610515236855, loss_random: 0.05281751975417137\n",
            "\n",
            "\n",
            "Avg time in seconds: 0.12403309591611227\n",
            "Memory usage in Kb: 912.0009765625\n"
          ]
        },
        {
          "output_type": "stream",
          "name": "stderr",
          "text": [
            "\n"
          ]
        }
      ]
    },
    {
      "cell_type": "code",
      "source": [
        "obj_idx = 5\n",
        "models_metrics[f'obj_{obj_idx}'] = run_model(obj_idx)"
      ],
      "metadata": {
        "colab": {
          "base_uri": "https://localhost:8080/"
        },
        "id": "ft5IdZjzvTUD",
        "outputId": "9f043f21-b1be-41a5-c728-d109de35189f"
      },
      "execution_count": 68,
      "outputs": [
        {
          "output_type": "stream",
          "name": "stderr",
          "text": [
            "\r  0%|          | 0/3000 [00:00<?, ?it/s]"
          ]
        },
        {
          "output_type": "stream",
          "name": "stdout",
          "text": [
            "\n",
            "\n",
            "Step 0, loss_near_surface: 0.8217058181762695, loss_random: -1.0\n",
            "\n",
            "\n"
          ]
        },
        {
          "output_type": "stream",
          "name": "stderr",
          "text": [
            "  2%|▏         | 50/3000 [00:11<05:08,  9.57it/s]"
          ]
        },
        {
          "output_type": "stream",
          "name": "stdout",
          "text": [
            "\n",
            "\n",
            "Step 50, loss_near_surface: 0.2588573396205902, loss_random: 0.8039212226867676\n",
            "\n",
            "\n"
          ]
        },
        {
          "output_type": "stream",
          "name": "stderr",
          "text": [
            "  3%|▎         | 99/3000 [00:21<04:44, 10.21it/s]"
          ]
        },
        {
          "output_type": "stream",
          "name": "stdout",
          "text": [
            "\n",
            "\n",
            "Step 100, loss_near_surface: 0.11087844520807266, loss_random: 0.6221104860305786\n",
            "\n",
            "\n"
          ]
        },
        {
          "output_type": "stream",
          "name": "stderr",
          "text": [
            "  5%|▌         | 150/3000 [00:31<04:42, 10.10it/s]"
          ]
        },
        {
          "output_type": "stream",
          "name": "stdout",
          "text": [
            "\n",
            "\n",
            "Step 150, loss_near_surface: 0.06586795300245285, loss_random: 0.4967116117477417\n",
            "\n",
            "\n"
          ]
        },
        {
          "output_type": "stream",
          "name": "stderr",
          "text": [
            "  7%|▋         | 200/3000 [00:42<04:38, 10.06it/s]"
          ]
        },
        {
          "output_type": "stream",
          "name": "stdout",
          "text": [
            "\n",
            "\n",
            "Step 200, loss_near_surface: 0.0427081324160099, loss_random: 0.4459908604621887\n",
            "\n",
            "\n"
          ]
        },
        {
          "output_type": "stream",
          "name": "stderr",
          "text": [
            "  8%|▊         | 250/3000 [00:52<04:54,  9.33it/s]"
          ]
        },
        {
          "output_type": "stream",
          "name": "stdout",
          "text": [
            "\n",
            "\n",
            "Step 250, loss_near_surface: 0.03211342915892601, loss_random: 0.3881821036338806\n",
            "\n",
            "\n"
          ]
        },
        {
          "output_type": "stream",
          "name": "stderr",
          "text": [
            " 10%|█         | 300/3000 [01:02<04:37,  9.74it/s]"
          ]
        },
        {
          "output_type": "stream",
          "name": "stdout",
          "text": [
            "\n",
            "\n",
            "Step 300, loss_near_surface: 0.02577369101345539, loss_random: 0.37010034918785095\n",
            "\n",
            "\n"
          ]
        },
        {
          "output_type": "stream",
          "name": "stderr",
          "text": [
            " 12%|█▏        | 350/3000 [01:13<04:49,  9.16it/s]"
          ]
        },
        {
          "output_type": "stream",
          "name": "stdout",
          "text": [
            "\n",
            "\n",
            "Step 350, loss_near_surface: 0.020270735025405884, loss_random: 0.365756630897522\n",
            "\n",
            "\n"
          ]
        },
        {
          "output_type": "stream",
          "name": "stderr",
          "text": [
            " 13%|█▎        | 400/3000 [01:23<03:59, 10.84it/s]"
          ]
        },
        {
          "output_type": "stream",
          "name": "stdout",
          "text": [
            "\n",
            "\n",
            "Step 400, loss_near_surface: 0.019244642928242683, loss_random: 0.3323098421096802\n",
            "\n",
            "\n"
          ]
        },
        {
          "output_type": "stream",
          "name": "stderr",
          "text": [
            " 15%|█▌        | 450/3000 [01:33<04:49,  8.80it/s]"
          ]
        },
        {
          "output_type": "stream",
          "name": "stdout",
          "text": [
            "\n",
            "\n",
            "Step 450, loss_near_surface: 0.014554821886122227, loss_random: 0.3073032796382904\n",
            "\n",
            "\n"
          ]
        },
        {
          "output_type": "stream",
          "name": "stderr",
          "text": [
            " 17%|█▋        | 500/3000 [01:43<04:11,  9.93it/s]"
          ]
        },
        {
          "output_type": "stream",
          "name": "stdout",
          "text": [
            "\n",
            "\n",
            "Step 500, loss_near_surface: 0.013807954266667366, loss_random: 0.2819986641407013\n",
            "\n",
            "\n"
          ]
        },
        {
          "output_type": "stream",
          "name": "stderr",
          "text": [
            " 18%|█▊        | 549/3000 [01:53<04:01, 10.13it/s]"
          ]
        },
        {
          "output_type": "stream",
          "name": "stdout",
          "text": [
            "\n",
            "\n",
            "Step 550, loss_near_surface: 0.012434512376785278, loss_random: 0.27686285972595215\n",
            "\n",
            "\n"
          ]
        },
        {
          "output_type": "stream",
          "name": "stderr",
          "text": [
            " 20%|██        | 600/3000 [02:04<04:03,  9.87it/s]"
          ]
        },
        {
          "output_type": "stream",
          "name": "stdout",
          "text": [
            "\n",
            "\n",
            "Step 600, loss_near_surface: 0.011589687317609787, loss_random: 0.2602231502532959\n",
            "\n",
            "\n"
          ]
        },
        {
          "output_type": "stream",
          "name": "stderr",
          "text": [
            " 22%|██▏       | 649/3000 [02:14<03:51, 10.15it/s]"
          ]
        },
        {
          "output_type": "stream",
          "name": "stdout",
          "text": [
            "\n",
            "\n",
            "Step 650, loss_near_surface: 0.011629626154899597, loss_random: 0.2510904371738434\n",
            "\n",
            "\n"
          ]
        },
        {
          "output_type": "stream",
          "name": "stderr",
          "text": [
            " 23%|██▎       | 699/3000 [02:24<03:43, 10.29it/s]"
          ]
        },
        {
          "output_type": "stream",
          "name": "stdout",
          "text": [
            "\n",
            "\n",
            "Step 700, loss_near_surface: 0.009362291544675827, loss_random: 0.2477746307849884\n",
            "\n",
            "\n"
          ]
        },
        {
          "output_type": "stream",
          "name": "stderr",
          "text": [
            " 25%|██▌       | 750/3000 [02:34<04:04,  9.21it/s]"
          ]
        },
        {
          "output_type": "stream",
          "name": "stdout",
          "text": [
            "\n",
            "\n",
            "Step 750, loss_near_surface: 0.009930236265063286, loss_random: 0.22986693680286407\n",
            "\n",
            "\n"
          ]
        },
        {
          "output_type": "stream",
          "name": "stderr",
          "text": [
            " 27%|██▋       | 799/3000 [02:45<03:37, 10.13it/s]"
          ]
        },
        {
          "output_type": "stream",
          "name": "stdout",
          "text": [
            "\n",
            "\n",
            "Step 800, loss_near_surface: 0.008929260075092316, loss_random: 0.22653871774673462\n",
            "\n",
            "\n"
          ]
        },
        {
          "output_type": "stream",
          "name": "stderr",
          "text": [
            " 28%|██▊       | 850/3000 [02:55<03:39,  9.78it/s]"
          ]
        },
        {
          "output_type": "stream",
          "name": "stdout",
          "text": [
            "\n",
            "\n",
            "Step 850, loss_near_surface: 0.009184288792312145, loss_random: 0.22435840964317322\n",
            "\n",
            "\n"
          ]
        },
        {
          "output_type": "stream",
          "name": "stderr",
          "text": [
            " 30%|███       | 900/3000 [03:06<03:47,  9.21it/s]"
          ]
        },
        {
          "output_type": "stream",
          "name": "stdout",
          "text": [
            "\n",
            "\n",
            "Step 900, loss_near_surface: 0.008623992092907429, loss_random: 0.21962226927280426\n",
            "\n",
            "\n"
          ]
        },
        {
          "output_type": "stream",
          "name": "stderr",
          "text": [
            " 32%|███▏      | 950/3000 [03:16<03:23, 10.05it/s]"
          ]
        },
        {
          "output_type": "stream",
          "name": "stdout",
          "text": [
            "\n",
            "\n",
            "Step 950, loss_near_surface: 0.008474176749587059, loss_random: 0.211033895611763\n",
            "\n",
            "\n"
          ]
        },
        {
          "output_type": "stream",
          "name": "stderr",
          "text": [
            " 33%|███▎      | 1000/3000 [03:26<03:24,  9.80it/s]"
          ]
        },
        {
          "output_type": "stream",
          "name": "stdout",
          "text": [
            "\n",
            "\n",
            "Step 1000, loss_near_surface: 0.007788907736539841, loss_random: 0.20965483784675598\n",
            "\n",
            "\n"
          ]
        },
        {
          "output_type": "stream",
          "name": "stderr",
          "text": [
            " 35%|███▌      | 1050/3000 [03:37<03:18,  9.84it/s]"
          ]
        },
        {
          "output_type": "stream",
          "name": "stdout",
          "text": [
            "\n",
            "\n",
            "Step 1050, loss_near_surface: 0.007581563200801611, loss_random: 0.2089284509420395\n",
            "\n",
            "\n"
          ]
        },
        {
          "output_type": "stream",
          "name": "stderr",
          "text": [
            " 37%|███▋      | 1100/3000 [03:47<03:18,  9.59it/s]"
          ]
        },
        {
          "output_type": "stream",
          "name": "stdout",
          "text": [
            "\n",
            "\n",
            "Step 1100, loss_near_surface: 0.007499232888221741, loss_random: 0.19770437479019165\n",
            "\n",
            "\n"
          ]
        },
        {
          "output_type": "stream",
          "name": "stderr",
          "text": [
            " 38%|███▊      | 1150/3000 [03:57<03:07,  9.84it/s]"
          ]
        },
        {
          "output_type": "stream",
          "name": "stdout",
          "text": [
            "\n",
            "\n",
            "Step 1150, loss_near_surface: 0.007204579655081034, loss_random: 0.18708208203315735\n",
            "\n",
            "\n"
          ]
        },
        {
          "output_type": "stream",
          "name": "stderr",
          "text": [
            " 40%|███▉      | 1199/3000 [04:08<03:04,  9.78it/s]"
          ]
        },
        {
          "output_type": "stream",
          "name": "stdout",
          "text": [
            "\n",
            "\n",
            "Step 1200, loss_near_surface: 0.007607479579746723, loss_random: 0.1906716227531433\n",
            "\n",
            "\n"
          ]
        },
        {
          "output_type": "stream",
          "name": "stderr",
          "text": [
            " 42%|████▏     | 1250/3000 [04:18<02:53, 10.07it/s]"
          ]
        },
        {
          "output_type": "stream",
          "name": "stdout",
          "text": [
            "\n",
            "\n",
            "Step 1250, loss_near_surface: 0.007208376657217741, loss_random: 0.1900346726179123\n",
            "\n",
            "\n"
          ]
        },
        {
          "output_type": "stream",
          "name": "stderr",
          "text": [
            " 43%|████▎     | 1300/3000 [04:30<02:50,  9.98it/s]"
          ]
        },
        {
          "output_type": "stream",
          "name": "stdout",
          "text": [
            "\n",
            "\n",
            "Step 1300, loss_near_surface: 0.00699725141748786, loss_random: 0.1871509552001953\n",
            "\n",
            "\n"
          ]
        },
        {
          "output_type": "stream",
          "name": "stderr",
          "text": [
            " 45%|████▌     | 1350/3000 [04:40<02:43, 10.12it/s]"
          ]
        },
        {
          "output_type": "stream",
          "name": "stdout",
          "text": [
            "\n",
            "\n",
            "Step 1350, loss_near_surface: 0.006886163726449013, loss_random: 0.18493086099624634\n",
            "\n",
            "\n"
          ]
        },
        {
          "output_type": "stream",
          "name": "stderr",
          "text": [
            " 47%|████▋     | 1399/3000 [04:50<02:38, 10.10it/s]"
          ]
        },
        {
          "output_type": "stream",
          "name": "stdout",
          "text": [
            "\n",
            "\n",
            "Step 1400, loss_near_surface: 0.007618891075253487, loss_random: 0.1836366057395935\n",
            "\n",
            "\n"
          ]
        },
        {
          "output_type": "stream",
          "name": "stderr",
          "text": [
            " 48%|████▊     | 1450/3000 [05:01<02:32, 10.15it/s]"
          ]
        },
        {
          "output_type": "stream",
          "name": "stdout",
          "text": [
            "\n",
            "\n",
            "Step 1450, loss_near_surface: 0.006625826470553875, loss_random: 0.18283948302268982\n",
            "\n",
            "\n"
          ]
        },
        {
          "output_type": "stream",
          "name": "stderr",
          "text": [
            " 50%|█████     | 1500/3000 [05:11<02:35,  9.66it/s]"
          ]
        },
        {
          "output_type": "stream",
          "name": "stdout",
          "text": [
            "\n",
            "\n",
            "Step 1500, loss_near_surface: 0.007123270537704229, loss_random: 0.17672978341579437\n",
            "\n",
            "\n"
          ]
        },
        {
          "output_type": "stream",
          "name": "stderr",
          "text": [
            " 52%|█████▏    | 1550/3000 [05:22<02:26,  9.88it/s]"
          ]
        },
        {
          "output_type": "stream",
          "name": "stdout",
          "text": [
            "\n",
            "\n",
            "Step 1550, loss_near_surface: 0.006698409095406532, loss_random: 0.17489838600158691\n",
            "\n",
            "\n"
          ]
        },
        {
          "output_type": "stream",
          "name": "stderr",
          "text": [
            " 53%|█████▎    | 1600/3000 [05:33<02:24,  9.70it/s]"
          ]
        },
        {
          "output_type": "stream",
          "name": "stdout",
          "text": [
            "\n",
            "\n",
            "Step 1600, loss_near_surface: 0.0074128154665231705, loss_random: 0.1686464250087738\n",
            "\n",
            "\n"
          ]
        },
        {
          "output_type": "stream",
          "name": "stderr",
          "text": [
            " 55%|█████▌    | 1650/3000 [05:43<02:04, 10.81it/s]"
          ]
        },
        {
          "output_type": "stream",
          "name": "stdout",
          "text": [
            "\n",
            "\n",
            "Step 1650, loss_near_surface: 0.006865952629595995, loss_random: 0.178758442401886\n",
            "\n",
            "\n"
          ]
        },
        {
          "output_type": "stream",
          "name": "stderr",
          "text": [
            " 57%|█████▋    | 1700/3000 [05:53<02:07, 10.21it/s]"
          ]
        },
        {
          "output_type": "stream",
          "name": "stdout",
          "text": [
            "\n",
            "\n",
            "Step 1700, loss_near_surface: 0.006676021032035351, loss_random: 0.17161713540554047\n",
            "\n",
            "\n"
          ]
        },
        {
          "output_type": "stream",
          "name": "stderr",
          "text": [
            " 58%|█████▊    | 1749/3000 [06:03<02:07,  9.81it/s]"
          ]
        },
        {
          "output_type": "stream",
          "name": "stdout",
          "text": [
            "\n",
            "\n",
            "Step 1750, loss_near_surface: 0.006691744085401297, loss_random: 0.16495488584041595\n",
            "\n",
            "\n"
          ]
        },
        {
          "output_type": "stream",
          "name": "stderr",
          "text": [
            " 60%|██████    | 1800/3000 [06:13<02:02,  9.79it/s]"
          ]
        },
        {
          "output_type": "stream",
          "name": "stdout",
          "text": [
            "\n",
            "\n",
            "Step 1800, loss_near_surface: 0.006345530040562153, loss_random: 0.16717994213104248\n",
            "\n",
            "\n"
          ]
        },
        {
          "output_type": "stream",
          "name": "stderr",
          "text": [
            " 62%|██████▏   | 1849/3000 [06:24<02:05,  9.15it/s]"
          ]
        },
        {
          "output_type": "stream",
          "name": "stdout",
          "text": [
            "\n",
            "\n",
            "Step 1850, loss_near_surface: 0.0063565680757164955, loss_random: 0.16345426440238953\n",
            "\n",
            "\n"
          ]
        },
        {
          "output_type": "stream",
          "name": "stderr",
          "text": [
            " 63%|██████▎   | 1899/3000 [06:34<01:53,  9.74it/s]"
          ]
        },
        {
          "output_type": "stream",
          "name": "stdout",
          "text": [
            "\n",
            "\n",
            "Step 1900, loss_near_surface: 0.006570685654878616, loss_random: 0.16438256204128265\n",
            "\n",
            "\n"
          ]
        },
        {
          "output_type": "stream",
          "name": "stderr",
          "text": [
            " 65%|██████▌   | 1950/3000 [06:45<01:45,  9.95it/s]"
          ]
        },
        {
          "output_type": "stream",
          "name": "stdout",
          "text": [
            "\n",
            "\n",
            "Step 1950, loss_near_surface: 0.0065200356766581535, loss_random: 0.16561023890972137\n",
            "\n",
            "\n"
          ]
        },
        {
          "output_type": "stream",
          "name": "stderr",
          "text": [
            " 67%|██████▋   | 2000/3000 [06:55<01:42,  9.76it/s]"
          ]
        },
        {
          "output_type": "stream",
          "name": "stdout",
          "text": [
            "\n",
            "\n",
            "Step 2000, loss_near_surface: 0.006166319828480482, loss_random: 0.16298234462738037\n",
            "\n",
            "\n"
          ]
        },
        {
          "output_type": "stream",
          "name": "stderr",
          "text": [
            " 68%|██████▊   | 2050/3000 [07:05<01:37,  9.77it/s]"
          ]
        },
        {
          "output_type": "stream",
          "name": "stdout",
          "text": [
            "\n",
            "\n",
            "Step 2050, loss_near_surface: 0.006469296291470528, loss_random: 0.15444573760032654\n",
            "\n",
            "\n"
          ]
        },
        {
          "output_type": "stream",
          "name": "stderr",
          "text": [
            " 70%|███████   | 2100/3000 [07:16<01:33,  9.61it/s]"
          ]
        },
        {
          "output_type": "stream",
          "name": "stdout",
          "text": [
            "\n",
            "\n",
            "Step 2100, loss_near_surface: 0.0062688980251550674, loss_random: 0.1627875566482544\n",
            "\n",
            "\n"
          ]
        },
        {
          "output_type": "stream",
          "name": "stderr",
          "text": [
            " 72%|███████▏  | 2149/3000 [07:25<01:23, 10.19it/s]"
          ]
        },
        {
          "output_type": "stream",
          "name": "stdout",
          "text": [
            "\n",
            "\n",
            "Step 2150, loss_near_surface: 0.005850070156157017, loss_random: 0.15762437880039215\n",
            "\n",
            "\n"
          ]
        },
        {
          "output_type": "stream",
          "name": "stderr",
          "text": [
            " 73%|███████▎  | 2199/3000 [07:36<01:18, 10.22it/s]"
          ]
        },
        {
          "output_type": "stream",
          "name": "stdout",
          "text": [
            "\n",
            "\n",
            "Step 2200, loss_near_surface: 0.006573829799890518, loss_random: 0.15702372789382935\n",
            "\n",
            "\n"
          ]
        },
        {
          "output_type": "stream",
          "name": "stderr",
          "text": [
            " 75%|███████▌  | 2250/3000 [07:46<01:11, 10.43it/s]"
          ]
        },
        {
          "output_type": "stream",
          "name": "stdout",
          "text": [
            "\n",
            "\n",
            "Step 2250, loss_near_surface: 0.005946911871433258, loss_random: 0.16093933582305908\n",
            "\n",
            "\n"
          ]
        },
        {
          "output_type": "stream",
          "name": "stderr",
          "text": [
            " 77%|███████▋  | 2300/3000 [07:57<01:11,  9.84it/s]"
          ]
        },
        {
          "output_type": "stream",
          "name": "stdout",
          "text": [
            "\n",
            "\n",
            "Step 2300, loss_near_surface: 0.005905596539378166, loss_random: 0.1598905324935913\n",
            "\n",
            "\n"
          ]
        },
        {
          "output_type": "stream",
          "name": "stderr",
          "text": [
            " 78%|███████▊  | 2350/3000 [08:07<01:05, 10.00it/s]"
          ]
        },
        {
          "output_type": "stream",
          "name": "stdout",
          "text": [
            "\n",
            "\n",
            "Step 2350, loss_near_surface: 0.006337064318358898, loss_random: 0.1552225798368454\n",
            "\n",
            "\n"
          ]
        },
        {
          "output_type": "stream",
          "name": "stderr",
          "text": [
            " 80%|███████▉  | 2399/3000 [08:17<01:00, 10.01it/s]"
          ]
        },
        {
          "output_type": "stream",
          "name": "stdout",
          "text": [
            "\n",
            "\n",
            "Step 2400, loss_near_surface: 0.006295769475400448, loss_random: 0.1527065485715866\n",
            "\n",
            "\n"
          ]
        },
        {
          "output_type": "stream",
          "name": "stderr",
          "text": [
            " 82%|████████▏ | 2450/3000 [08:27<00:55,  9.88it/s]"
          ]
        },
        {
          "output_type": "stream",
          "name": "stdout",
          "text": [
            "\n",
            "\n",
            "Step 2450, loss_near_surface: 0.0061029354110360146, loss_random: 0.1474178284406662\n",
            "\n",
            "\n"
          ]
        },
        {
          "output_type": "stream",
          "name": "stderr",
          "text": [
            " 83%|████████▎ | 2500/3000 [08:37<00:49, 10.03it/s]"
          ]
        },
        {
          "output_type": "stream",
          "name": "stdout",
          "text": [
            "\n",
            "\n",
            "Step 2500, loss_near_surface: 0.005959289614111185, loss_random: 0.148660808801651\n",
            "\n",
            "\n"
          ]
        },
        {
          "output_type": "stream",
          "name": "stderr",
          "text": [
            " 85%|████████▌ | 2550/3000 [08:47<00:44, 10.03it/s]"
          ]
        },
        {
          "output_type": "stream",
          "name": "stdout",
          "text": [
            "\n",
            "\n",
            "Step 2550, loss_near_surface: 0.00653933547437191, loss_random: 0.14777827262878418\n",
            "\n",
            "\n"
          ]
        },
        {
          "output_type": "stream",
          "name": "stderr",
          "text": [
            " 87%|████████▋ | 2600/3000 [08:58<00:53,  7.42it/s]"
          ]
        },
        {
          "output_type": "stream",
          "name": "stdout",
          "text": [
            "\n",
            "\n",
            "Step 2600, loss_near_surface: 0.006126238964498043, loss_random: 0.1484241485595703\n",
            "\n",
            "\n"
          ]
        },
        {
          "output_type": "stream",
          "name": "stderr",
          "text": [
            " 88%|████████▊ | 2650/3000 [09:09<00:34, 10.13it/s]"
          ]
        },
        {
          "output_type": "stream",
          "name": "stdout",
          "text": [
            "\n",
            "\n",
            "Step 2650, loss_near_surface: 0.00570387439802289, loss_random: 0.15218091011047363\n",
            "\n",
            "\n"
          ]
        },
        {
          "output_type": "stream",
          "name": "stderr",
          "text": [
            " 90%|█████████ | 2700/3000 [09:20<00:29, 10.02it/s]"
          ]
        },
        {
          "output_type": "stream",
          "name": "stdout",
          "text": [
            "\n",
            "\n",
            "Step 2700, loss_near_surface: 0.006363862659782171, loss_random: 0.15324290096759796\n",
            "\n",
            "\n"
          ]
        },
        {
          "output_type": "stream",
          "name": "stderr",
          "text": [
            " 92%|█████████▏| 2749/3000 [09:30<00:25, 10.04it/s]"
          ]
        },
        {
          "output_type": "stream",
          "name": "stdout",
          "text": [
            "\n",
            "\n",
            "Step 2750, loss_near_surface: 0.0062280138954520226, loss_random: 0.15025818347930908\n",
            "\n",
            "\n"
          ]
        },
        {
          "output_type": "stream",
          "name": "stderr",
          "text": [
            " 93%|█████████▎| 2800/3000 [09:40<00:20,  9.87it/s]"
          ]
        },
        {
          "output_type": "stream",
          "name": "stdout",
          "text": [
            "\n",
            "\n",
            "Step 2800, loss_near_surface: 0.005960764363408089, loss_random: 0.1501302719116211\n",
            "\n",
            "\n"
          ]
        },
        {
          "output_type": "stream",
          "name": "stderr",
          "text": [
            " 95%|█████████▌| 2850/3000 [09:51<00:14, 10.12it/s]"
          ]
        },
        {
          "output_type": "stream",
          "name": "stdout",
          "text": [
            "\n",
            "\n",
            "Step 2850, loss_near_surface: 0.00602572550997138, loss_random: 0.15017998218536377\n",
            "\n",
            "\n"
          ]
        },
        {
          "output_type": "stream",
          "name": "stderr",
          "text": [
            " 97%|█████████▋| 2900/3000 [10:01<00:09, 10.06it/s]"
          ]
        },
        {
          "output_type": "stream",
          "name": "stdout",
          "text": [
            "\n",
            "\n",
            "Step 2900, loss_near_surface: 0.006171172484755516, loss_random: 0.14788082242012024\n",
            "\n",
            "\n"
          ]
        },
        {
          "output_type": "stream",
          "name": "stderr",
          "text": [
            " 98%|█████████▊| 2949/3000 [10:10<00:04, 10.89it/s]"
          ]
        },
        {
          "output_type": "stream",
          "name": "stdout",
          "text": [
            "\n",
            "\n",
            "Step 2950, loss_near_surface: 0.005839172750711441, loss_random: 0.15368574857711792\n",
            "\n",
            "\n"
          ]
        },
        {
          "output_type": "stream",
          "name": "stderr",
          "text": [
            "100%|██████████| 3000/3000 [10:21<00:00,  4.83it/s]"
          ]
        },
        {
          "output_type": "stream",
          "name": "stdout",
          "text": [
            "\n",
            "\n",
            "Step 3000, loss_near_surface: 0.006127447821199894, loss_random: 0.14790330827236176\n",
            "\n",
            "\n",
            "Avg time in seconds: 0.20579076512654623\n",
            "Memory usage in Kb: 912.0009765625\n"
          ]
        },
        {
          "output_type": "stream",
          "name": "stderr",
          "text": [
            "\n"
          ]
        }
      ]
    },
    {
      "cell_type": "markdown",
      "source": [
        "## Test models"
      ],
      "metadata": {
        "id": "B16XuneaJaW7"
      }
    },
    {
      "cell_type": "code",
      "source": [
        "def compute_occupancy_f1(points, sdf, true_sdf_val):\n",
        "  preds_np = sdf(torch.cuda.FloatTensor(points.copy())).detach().cpu().numpy().flatten()\n",
        "  results = np.sign(true_sdf_val) == np.sign(preds_np)\n",
        "  return results.sum() / results.shape[0]\n",
        "\n",
        "\n",
        "def test_sdf(sdf, obj_idx, mesh):\n",
        "  points_near_surface, sdf_val_near_surface = get_near_surface_points_and_truth(mesh, num_points=5_000)\n",
        "  points_random, sdf_val_random = get_random_points_and_truth(mesh, num_points=5_000)\n",
        "\n",
        "  f1_near_surface = compute_occupancy_f1(points_near_surface, sdf, sdf_val_near_surface)\n",
        "  print('Occupancy F1 near surface: ', f1_near_surface)\n",
        "\n",
        "  f1_random = compute_occupancy_f1(points_random, sdf, sdf_val_random)\n",
        "  print('Occupancy F1 random: ', f1_random)\n",
        "\n",
        "  return f1_near_surface, f1_random"
      ],
      "metadata": {
        "id": "mvM-aDU1Jz0_"
      },
      "execution_count": 85,
      "outputs": []
    },
    {
      "cell_type": "code",
      "source": [
        "def test_obj_model(models_metrics, obj_idx):\n",
        "  obj_siren = SirenNet(\n",
        "      dim_in = 3,\n",
        "      dim_hidden = 240,\n",
        "      dim_out = 1,\n",
        "      num_layers = 5,\n",
        "      final_activation = nn.Identity(),\n",
        "      w0_initial = 30\n",
        "  )\n",
        "  model_save_path = DATA_DIR + f'siren_model/obj_{obj_idx}.pt'\n",
        "  obj_siren = obj_siren.cuda()\n",
        "\n",
        "  mesh = trimesh.load_mesh(DATA_DIR + f'test_task_meshes/{obj_idx}.obj')\n",
        "  f1_near_surface, f1_random = test_sdf(obj_siren, obj_idx, mesh)\n",
        "\n",
        "  models_metrics[f'obj_{obj_idx}']['f1_near_surface'] = f1_near_surface\n",
        "  models_metrics[f'obj_{obj_idx}']['f1_random'] = f1_random\n",
        "\n",
        "  return models_metrics"
      ],
      "metadata": {
        "id": "8bXQWWKhJbed"
      },
      "execution_count": 86,
      "outputs": []
    },
    {
      "cell_type": "code",
      "source": [
        "models_metrics = test_obj_model(models_metrics, obj_idx=1)"
      ],
      "metadata": {
        "colab": {
          "base_uri": "https://localhost:8080/"
        },
        "id": "KFdWQi89J_bA",
        "outputId": "4bb4cccf-85e5-4d8b-8294-9a65796f9594"
      },
      "execution_count": 87,
      "outputs": [
        {
          "output_type": "stream",
          "name": "stdout",
          "text": [
            "Occupancy F1 near surface:  0.5472\n",
            "Occupancy F1 random:  0.522\n"
          ]
        }
      ]
    },
    {
      "cell_type": "code",
      "source": [
        "models_metrics = test_obj_model(models_metrics, obj_idx=2)"
      ],
      "metadata": {
        "colab": {
          "base_uri": "https://localhost:8080/"
        },
        "id": "mIosv_v6BKG7",
        "outputId": "5e09de47-d87b-4c23-f12b-b95050478cec"
      },
      "execution_count": 92,
      "outputs": [
        {
          "output_type": "stream",
          "name": "stdout",
          "text": [
            "Occupancy F1 near surface:  0.6034\n",
            "Occupancy F1 random:  0.6262\n"
          ]
        }
      ]
    },
    {
      "cell_type": "code",
      "source": [
        "models_metrics = test_obj_model(models_metrics, obj_idx=3)"
      ],
      "metadata": {
        "colab": {
          "base_uri": "https://localhost:8080/"
        },
        "id": "cf9U_KYyBrCf",
        "outputId": "efe236b7-dfed-43e5-ad3a-0151c909c325"
      },
      "execution_count": 96,
      "outputs": [
        {
          "output_type": "stream",
          "name": "stdout",
          "text": [
            "Occupancy F1 near surface:  0.515\n",
            "Occupancy F1 random:  0.5994\n"
          ]
        }
      ]
    },
    {
      "cell_type": "code",
      "source": [
        "models_metrics = test_obj_model(models_metrics, obj_idx=4)"
      ],
      "metadata": {
        "colab": {
          "base_uri": "https://localhost:8080/"
        },
        "id": "dUfexfRtCNe8",
        "outputId": "3f337cd1-e367-4700-f7e6-24613aa408fb"
      },
      "execution_count": 103,
      "outputs": [
        {
          "output_type": "stream",
          "name": "stdout",
          "text": [
            "Occupancy F1 near surface:  0.5606\n",
            "Occupancy F1 random:  0.527\n"
          ]
        }
      ]
    },
    {
      "cell_type": "code",
      "source": [
        "models_metrics = test_obj_model(models_metrics, obj_idx=5)"
      ],
      "metadata": {
        "colab": {
          "base_uri": "https://localhost:8080/"
        },
        "id": "00RU4f-9Cfqh",
        "outputId": "b9c5e294-e514-48dc-c567-34a32f5e09ed"
      },
      "execution_count": 106,
      "outputs": [
        {
          "output_type": "stream",
          "name": "stdout",
          "text": [
            "Occupancy F1 near surface:  0.5822\n",
            "Occupancy F1 random:  0.6722\n"
          ]
        }
      ]
    },
    {
      "cell_type": "markdown",
      "source": [
        "## Calculate average metrics"
      ],
      "metadata": {
        "id": "zqNnCozhC8zH"
      }
    },
    {
      "cell_type": "code",
      "source": [
        "iter_times = []\n",
        "model_memory_sizes = []\n",
        "f1_near_surface_vals = []\n",
        "f1_random_vals = []\n",
        "\n",
        "for obj_idx in models_metrics.keys():\n",
        "  obj_metrics = models_metrics[obj_idx]\n",
        "\n",
        "  f1_near_surface_vals.append(obj_metrics['f1_near_surface'])\n",
        "  f1_random_vals.append(obj_metrics['f1_random'])\n",
        "  iter_times.append(obj_metrics['avg_time_secs'])\n",
        "  model_memory_sizes.append(obj_metrics['memory_usage'])"
      ],
      "metadata": {
        "id": "uDhAy4Q7u5W4"
      },
      "execution_count": 107,
      "outputs": []
    },
    {
      "cell_type": "code",
      "source": [
        "def print_lst_avg(title, lst):\n",
        "  print(f'Average {title} based {len(lst)} objects: ', round(sum(lst) / len(lst), 4))\n",
        "\n",
        "print_lst_avg('iteration time (in seconds)', iter_times)\n",
        "print_lst_avg('memory usage (in Kb)', model_memory_sizes)\n",
        "print_lst_avg('occupancy F1 random', f1_random_vals)\n",
        "print_lst_avg('occupancy F1 near surface', f1_near_surface_vals)"
      ],
      "metadata": {
        "colab": {
          "base_uri": "https://localhost:8080/"
        },
        "id": "74mSU_2mDAfh",
        "outputId": "6c6522ad-a687-414a-eaf6-7beb8ec32a31"
      },
      "execution_count": 108,
      "outputs": [
        {
          "output_type": "stream",
          "name": "stdout",
          "text": [
            "Average iteration time (in seconds) based 5 objects:  0.1844\n",
            "Average memory usage (in Kb) based 5 objects:  912.001\n",
            "Average occupancy F1 random based 5 objects:  0.5894\n",
            "Average occupancy F1 near surface based 5 objects:  0.5617\n"
          ]
        }
      ]
    },
    {
      "cell_type": "code",
      "source": [
        "import json\n",
        "\n",
        "with open('/content/drive/MyDrive/UCU/4course_1term/Computer_Vision/Practice/data/results/Siren_metrics.json', 'w') as fp:\n",
        "    json.dump(models_metrics, fp, indent=4)"
      ],
      "metadata": {
        "id": "IUsW33-iDBGi"
      },
      "execution_count": 110,
      "outputs": []
    },
    {
      "cell_type": "code",
      "source": [],
      "metadata": {
        "id": "zt5xBsFIDDFP"
      },
      "execution_count": null,
      "outputs": []
    }
  ],
  "metadata": {
    "kernelspec": {
      "display_name": "Python 3",
      "language": "python",
      "name": "python3"
    },
    "language_info": {
      "codemirror_mode": {
        "name": "ipython",
        "version": 3
      },
      "file_extension": ".py",
      "mimetype": "text/x-python",
      "name": "python",
      "nbconvert_exporter": "python",
      "pygments_lexer": "ipython3",
      "version": "3.7.4"
    },
    "pycharm": {
      "stem_cell": {
        "cell_type": "raw",
        "metadata": {
          "collapsed": false
        },
        "source": []
      }
    },
    "colab": {
      "provenance": []
    },
    "accelerator": "GPU",
    "gpuClass": "standard"
  },
  "nbformat": 4,
  "nbformat_minor": 0
}